{
  "nbformat": 4,
  "nbformat_minor": 0,
  "metadata": {
    "colab": {
      "provenance": [],
      "include_colab_link": true
    },
    "kernelspec": {
      "name": "python3",
      "display_name": "Python 3"
    },
    "language_info": {
      "name": "python"
    }
  },
  "cells": [
    {
      "cell_type": "markdown",
      "metadata": {
        "id": "view-in-github",
        "colab_type": "text"
      },
      "source": [
        "<a href=\"https://colab.research.google.com/github/jcvancity2022/Computer-Vision-Project-Overview/blob/Jeffrey's-Branch/Week_6.ipynb\" target=\"_parent\"><img src=\"https://colab.research.google.com/assets/colab-badge.svg\" alt=\"Open In Colab\"/></a>"
      ]
    },
    {
      "cell_type": "markdown",
      "source": [
        "<center><h1> <b>Image Dataset Analysis and Project Development with YOLO </b> </center> </h1>\n",
        "\n",
        "In this tutorial, we will see how image datasets with different types of tasks such as detection , segmentation etc. look like, and how they are labelled, specifically in YOLO format.\n",
        "\n",
        "Then, we will download one dataset to explore it and clean it if required.\n",
        "\n"
      ],
      "metadata": {
        "id": "CvIx0KGWlPtp"
      }
    },
    {
      "cell_type": "markdown",
      "source": [
        "## **Classification**\n",
        "\n",
        "Image classification is the simplest and involves classifying an entire image into one of a set of predefined classes.\n",
        "\n",
        "The output of an image classifier is a single class label and a confidence score. Image classification is useful when you need to know only what class an image belongs to and don't need to know where objects of that class are located or what their exact shape is.\n",
        "\n"
      ],
      "metadata": {
        "id": "qLUWE8gn9_RB"
      }
    },
    {
      "cell_type": "markdown",
      "source": [
        "\n",
        "\n",
        "&nbsp;&nbsp;&nbsp;&nbsp;&nbsp;&nbsp;&nbsp;&nbsp;\n",
        "<img align=\"left\" src=\"https://user-images.githubusercontent.com/26833433/243418606-adf35c62-2e11-405d-84c6-b84e7d013804.png\" width=\"600\">"
      ],
      "metadata": {
        "id": "DSkOCZxt-ZAO"
      }
    },
    {
      "cell_type": "markdown",
      "source": [
        "Usually each image has a single object in it, which is its class> Following image shows CIFAR10 Dataset.\n",
        "\n",
        "&nbsp;&nbsp;&nbsp;&nbsp;&nbsp;&nbsp;&nbsp;&nbsp;\n",
        "<img align=\"left\" src=\"https://datagen.tech/wp-content/uploads/2022/11/image1.png\" width=\"600\">\n",
        "\n"
      ],
      "metadata": {
        "id": "OstzhA30B2tK"
      }
    },
    {
      "cell_type": "markdown",
      "source": [
        "The dataset should be labelled by arranging them in the following folders heirarchy.\n",
        "\n",
        "              root/\n",
        "              |-- class1/\n",
        "              |   |-- img1.jpg\n",
        "              |   |-- img2.jpg\n",
        "              |   |-- ...\n",
        "              |\n",
        "              |-- class2/\n",
        "              |   |-- img1.jpg\n",
        "              |   |-- img2.jpg\n",
        "              |   |-- ...\n",
        "              |\n",
        "              |-- class3/\n",
        "              |   |-- img1.jpg\n",
        "              |   |-- img2.jpg\n",
        "              |   |-- ...\n",
        "              |\n",
        "              |-- ...\n",
        "\n",
        "In this folder structure, the root directory contains one subdirectory for each class in the dataset. Each subdirectory is named after the corresponding class and contains all the images for that class.\n",
        "\n",
        "For example:\n",
        "\n",
        "              cifar-10-/\n",
        "              |\n",
        "              |-- train/\n",
        "              |   |-- airplane/\n",
        "              |   |   |-- 10008_airplane.png\n",
        "              |   |   |-- 10009_airplane.png\n",
        "              |   |   |-- ...\n",
        "              |   |\n",
        "              |   |-- automobile/\n",
        "              |   |   |-- 1000_automobile.png\n",
        "              |   |   |-- 1001_automobile.png\n",
        "              |   |   |-- ...\n",
        "              |   |\n",
        "              |   |-- bird/\n",
        "              |   |   |-- 10014_bird.png\n",
        "              |   |   |-- 10015_bird.png\n",
        "              |   |   |-- ...\n",
        "              |   |\n",
        "              |   |-- ...\n",
        "              |\n",
        "              |-- test/\n",
        "              |   |-- airplane/\n",
        "              |   |   |-- 10_airplane.png\n",
        "              |   |   |-- 11_airplane.png\n",
        "              |   |   |-- ...\n",
        "              |   |\n",
        "              |   |-- automobile/\n",
        "              |   |   |-- 100_automobile.png\n",
        "              |   |   |-- 101_automobile.png\n",
        "              |   |   |-- ...\n",
        "              |   |\n",
        "              |   |-- bird/\n",
        "              |   |   |-- 1000_bird.png\n",
        "              |   |   |-- 1001_bird.png\n",
        "              |   |   |-- ...\n",
        "              |   |\n",
        "              |   |-- ..."
      ],
      "metadata": {
        "id": "hcIc5sJBCx2S"
      }
    },
    {
      "cell_type": "markdown",
      "source": [],
      "metadata": {
        "id": "vTjx8pXEB1B5"
      }
    },
    {
      "cell_type": "markdown",
      "source": [
        "## **Object Detection**"
      ],
      "metadata": {
        "id": "5cZ9e5J4zvF9"
      }
    },
    {
      "cell_type": "markdown",
      "source": [
        "Object detection is a task that involves identifying the location and class of objects in an image or video stream.\n",
        "\n",
        "The output of an object detector is a set of bounding boxes that enclose the objects in the image, along with class labels and confidence scores for each box."
      ],
      "metadata": {
        "id": "52PMPO-rgZq-"
      }
    },
    {
      "cell_type": "markdown",
      "source": [
        "\n",
        "\n",
        "&nbsp;&nbsp;&nbsp;&nbsp;&nbsp;&nbsp;&nbsp;&nbsp;\n",
        "<img align=\"left\" src=\"https://user-images.githubusercontent.com/26833433/243418624-5785cb93-74c9-4541-9179-d5c6782d491a.png\" width=\"600\">"
      ],
      "metadata": {
        "id": "lDruPnQMi315"
      }
    },
    {
      "cell_type": "markdown",
      "source": [
        "**Labelling format**\n",
        "\n",
        "In object detection tasks, various labeling formats are used to annotate images with information about the objects present. These formats typically include details about the object's class and location within the image. Here are some of the most common labeling formats:\n",
        "\n",
        "1. COCO\n",
        "2. YOLO\n",
        "3. CSV  \n",
        "5. XML\n",
        "6. PASCAL VOC\n",
        "\n",
        "We will be discussing only YOLO format, as you will be using YOLO framework for your project:\n",
        "\n",
        "- One .txt file with labels file per image\n",
        "- One row per object\n",
        "- Each row contains:\n",
        "\n",
        "      class_id bbox_x_center bbox_y_center bbox_width bbox_height\n",
        "- Box coordinates must be normalized between 0 and 1\n",
        "\n",
        "\n",
        "An example:"
      ],
      "metadata": {
        "id": "kFz-X3Zx1xKn"
      }
    },
    {
      "cell_type": "markdown",
      "source": [
        "\n",
        "\n",
        "\n",
        "&nbsp;&nbsp;&nbsp;&nbsp;&nbsp;&nbsp;&nbsp;&nbsp;\n",
        "<img align=\"left\" src=\"https://user-images.githubusercontent.com/26833433/91506361-c7965000-e886-11ea-8291-c72b98c25eec.jpg\" width=\"600\">"
      ],
      "metadata": {
        "id": "6es7DWt75YTf"
      }
    },
    {
      "cell_type": "markdown",
      "source": [
        "Corresponding label text file should look like:\n",
        "\n",
        "\n",
        "&nbsp;&nbsp;&nbsp;&nbsp;&nbsp;&nbsp;&nbsp;&nbsp;\n",
        "<img align=\"left\" src=\"https://user-images.githubusercontent.com/26833433/112467037-d2568c00-8d66-11eb-8796-55402ac0d62f.png\" width=\"600\">"
      ],
      "metadata": {
        "id": "KDeb1gEM5uIT"
      }
    },
    {
      "cell_type": "markdown",
      "source": [
        "## **Segmentation**\n"
      ],
      "metadata": {
        "id": "0brGPZa4oRk7"
      }
    },
    {
      "cell_type": "markdown",
      "source": [
        "Instance segmentation goes a step further than object detection and involves identifying individual objects in an image and segmenting them from the rest of the image.\n",
        "\n",
        "The output of an instance segmentation model is a set of masks or contours that outline each object in the image, along with class labels and confidence scores for each object. Instance segmentation is useful when you need to know not only where objects are in an image, but also what their exact shape is.\n",
        "\n"
      ],
      "metadata": {
        "id": "_56IDqcG6mNw"
      }
    },
    {
      "cell_type": "markdown",
      "source": [
        "\n",
        "\n",
        "&nbsp;&nbsp;&nbsp;&nbsp;&nbsp;&nbsp;&nbsp;&nbsp;\n",
        "<img align=\"left\" src=\"https://user-images.githubusercontent.com/26833433/243418644-7df320b8-098d-47f1-85c5-26604d761286.png\" width=\"600\">"
      ],
      "metadata": {
        "id": "oItmHrqo8qLM"
      }
    },
    {
      "cell_type": "markdown",
      "source": [
        "**Labelling format for YOLO**\n",
        "\n",
        "\n",
        "- One .txt file with labels file per image\n",
        "- One row per object\n",
        "- Each row contains:\n",
        "  - class index: An integer representing the class of the object (e.g., 0 for person, 1 for car, etc.).\n",
        "  - bounding coordinates: The bounding coordinates around the mask area, normalized to be between 0 and 1.\n",
        "\n",
        "\n",
        "      <class-index> <x1> <y1> <x2> <y2> ... <xn> <yn>\n",
        "\n",
        "\n",
        "Here is an example of the YOLO dataset format for a single image with two objects made up of a 3-point segment and a 5-point segment.\n",
        "\n",
        "\n",
        "      0 0.681 0.485 0.670 0.487 0.676 0.487\n",
        "      1 0.504 0.000 0.501 0.004 0.498 0.004 0.493 0.010 0.492 0.0104\n"
      ],
      "metadata": {
        "id": "M2C24Fz389GY"
      }
    },
    {
      "cell_type": "markdown",
      "source": [
        "## **Pose Estimation**\n",
        "Pose estimation is a task that involves identifying the location of specific points in an image, usually referred to as keypoints. The keypoints can represent various parts of the object such as joints, landmarks, or other distinctive features. The locations of the keypoints are usually represented as a set of 2D [x, y] or 3D [x, y, visible] coordinates.\n",
        "\n",
        "The output of a pose estimation model is a set of points that represent the keypoints on an object in the image, usually along with the confidence scores for each point. Pose estimation is a good choice when you need to identify specific parts of an object in a scene, and their location in relation to each other."
      ],
      "metadata": {
        "id": "CPFHkCO8-2mW"
      }
    },
    {
      "cell_type": "markdown",
      "source": [
        "\n",
        "\n",
        "&nbsp;&nbsp;&nbsp;&nbsp;&nbsp;&nbsp;&nbsp;&nbsp;\n",
        "<img align=\"left\" src=\"https://user-images.githubusercontent.com/26833433/243418616-9811ac0b-a4a7-452a-8aba-484ba32bb4a8.png\" width=\"600\">"
      ],
      "metadata": {
        "id": "zebzQ_Z6_CB9"
      }
    },
    {
      "cell_type": "markdown",
      "source": [
        "**Labelling format for YOLO**\n",
        "\n",
        "\n",
        "- One .txt file with labels file per image\n",
        "- One row per object\n",
        "- Each row contains:\n",
        "  - Object class index: An integer representing the class of the object (e.g., 0 for person, 1 for car, etc.).\n",
        "  - Object center coordinates: The x and y coordinates of the center of the object, normalized to be between 0 and 1.\n",
        "  - Object width and height: The width and height of the object, normalized to be between 0 and 1.\n",
        "  - Object keypoint coordinates: The keypoints of the object, normalized to be between 0 and 1.\n",
        "\n",
        "\n",
        "Here is an example of the label format for pose estimation task:\n",
        "\n",
        "Format with Dim = 2\n",
        "\n",
        "      <class-index> <x> <y> <width> <height> <px1> <py1> <px2> <py2> ... <pxn> <pyn>\n",
        "Format with Dim = 3\n",
        "\n",
        "      <class-index> <x> <y> <width> <height> <px1> <py1> <p1-visibility> <px2> <py2> <p2-visibility> ... <pxn> <pyn> <p2-visibility>"
      ],
      "metadata": {
        "id": "z9M4kU8P_QWU"
      }
    },
    {
      "cell_type": "markdown",
      "source": [
        "## FOLDERS HEIRARCHY\n"
      ],
      "metadata": {
        "id": "hsAvGgxxHAS3"
      }
    },
    {
      "cell_type": "markdown",
      "source": [
        "\n",
        "\n",
        " We need to convert the dataset into a specific heirarchy of folders for all the tasks except for task of classification.\n",
        "\n",
        "\n",
        "The directories should be in the following format:\n",
        "\n",
        "![image.png](data:image/png;base64,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)\n"
      ],
      "metadata": {
        "id": "gt4h9bFXjV9V"
      }
    },
    {
      "cell_type": "markdown",
      "source": [
        "# **COCO128 Dataset**\n",
        "\n",
        "This section aims to introduce you to COCO dataset frequently used in Artificial Intelligence (AI).It is a foundational dataset in AI, widely used for tasks like object detection, segmentation, and image captioning.\n",
        "\n",
        "\n",
        "It Contains over 330,000 images with more than 200,000 labeled across 80 object categories. Unique for its richly annotated images, including object segmentation.It is widely used in computer vision research and has been used to train and evaluate many state-of-the-art object detection and segmentation models.\n",
        "\n",
        "Link to full dataset: https://cocodataset.org/#home\n"
      ],
      "metadata": {
        "id": "ZKyjblYvb8fW"
      }
    },
    {
      "cell_type": "markdown",
      "source": [
        "We are going using coco128 dataset.This dataset contains the first 128 images of COCO train 2017. It is used as the tutorial dataset for YOLO.\n",
        "\n",
        "Download the dataset from:\n",
        "https://www.kaggle.com/datasets/ultralytics/coco128/data\n"
      ],
      "metadata": {
        "id": "G11PH4xOo8zO"
      }
    },
    {
      "cell_type": "markdown",
      "source": [
        "## Dataset Visualization"
      ],
      "metadata": {
        "id": "_DUeZCUkSwkG"
      }
    },
    {
      "cell_type": "markdown",
      "source": [
        "\n",
        "To draw bounding boxes on images we need to understand the labelling format used by this dataset. The labels for this dataset are stored in YOLO format. i.e.\n",
        "\n",
        "        class_id bbox_x_center bbox_y_center bbox_width bbox_height\n",
        "\n",
        "\n"
      ],
      "metadata": {
        "id": "NJe53Fzd1mZn"
      }
    },
    {
      "cell_type": "markdown",
      "source": [
        "The class_id is the numerical number assigned to different class labels as shown below:"
      ],
      "metadata": {
        "id": "jvPN5o_jSKgK"
      }
    },
    {
      "cell_type": "code",
      "source": [
        "class_labels = {\n",
        "    0: \"person\",\n",
        "    1: \"bicycle\",\n",
        "    2: \"car\",\n",
        "    3: \"motorcycle\",\n",
        "    4: \"airplane\",\n",
        "    5: \"bus\",\n",
        "    6: \"train\",\n",
        "    7: \"truck\",\n",
        "    8: \"boat\",\n",
        "    9: \"traffic light\",\n",
        "    10: \"fire hydrant\",\n",
        "    11: \"stop sign\",\n",
        "    12: \"parking meter\",\n",
        "    13: \"bench\",\n",
        "    14: \"bird\",\n",
        "    15: \"cat\",\n",
        "    16: \"dog\",\n",
        "    17: \"horse\",\n",
        "    18: \"sheep\",\n",
        "    19: \"cow\",\n",
        "    20: \"elephant\",\n",
        "    21: \"bear\",\n",
        "    22: \"zebra\",\n",
        "    23: \"giraffe\",\n",
        "    24: \"backpack\",\n",
        "    25: \"umbrella\",\n",
        "    26: \"handbag\",\n",
        "    27: \"tie\",\n",
        "    28: \"suitcase\",\n",
        "    29: \"frisbee\",\n",
        "    30: \"skis\",\n",
        "    31: \"snowboard\",\n",
        "    32: \"sports ball\",\n",
        "    33: \"kite\",\n",
        "    34: \"baseball bat\",\n",
        "    35: \"baseball glove\",\n",
        "    36: \"skateboard\",\n",
        "    37: \"surfboard\",\n",
        "    38: \"tennis racket\",\n",
        "    39: \"bottle\",\n",
        "    40: \"wine glass\",\n",
        "    41: \"cup\",\n",
        "    42: \"fork\",\n",
        "    43: \"knife\",\n",
        "    44: \"spoon\",\n",
        "    45: \"bowl\",\n",
        "    46: \"banana\",\n",
        "    47: \"apple\",\n",
        "    48: \"sandwich\",\n",
        "    49: \"orange\",\n",
        "    50: \"broccoli\",\n",
        "    51: \"carrot\",\n",
        "    52: \"hot dog\",\n",
        "    53: \"pizza\",\n",
        "    54: \"donut\",\n",
        "    55: \"cake\",\n",
        "    56: \"chair\",\n",
        "    57: \"couch\",\n",
        "    58: \"potted plant\",\n",
        "    59: \"bed\",\n",
        "    60: \"dining table\",\n",
        "    61: \"toilet\",\n",
        "    62: \"tv\",\n",
        "    63: \"laptop\",\n",
        "    64: \"mouse\",\n",
        "    65: \"remote\",\n",
        "    66: \"keyboard\",\n",
        "    67: \"cell phone\",\n",
        "    68: \"microwave\",\n",
        "    69: \"oven\",\n",
        "    70: \"toaster\",\n",
        "    71: \"sink\",\n",
        "    72: \"refrigerator\",\n",
        "    73: \"book\",\n",
        "    74: \"clock\",\n",
        "    75: \"vase\",\n",
        "    76: \"scissors\",\n",
        "    77: \"teddy bear\",\n",
        "    78: \"hair drier\",\n",
        "    79: \"toothbrush\"\n",
        "}\n"
      ],
      "metadata": {
        "id": "Qry8OPsHG3GK"
      },
      "execution_count": 1,
      "outputs": []
    },
    {
      "cell_type": "markdown",
      "source": [
        "The rest of the four values i.e.\n",
        "\n",
        "    0.479492 0.688771 0.955609 0.5955\n",
        "\n",
        "indidicate the location of the bounding box.\n",
        "\n",
        "These values are normalized, which should be converted to a format that can be used as coordinate values of rectangle function (of cv2)."
      ],
      "metadata": {
        "id": "Tc8tH0PySW4n"
      }
    },
    {
      "cell_type": "markdown",
      "source": [
        "First import the required libraries:"
      ],
      "metadata": {
        "id": "DQbCyFCMaueA"
      }
    },
    {
      "cell_type": "code",
      "source": [
        "import cv2\n",
        "import matplotlib.pyplot as plt\n",
        "import random as random\n",
        "import os"
      ],
      "metadata": {
        "id": "ZoPPaZu5a4Fp"
      },
      "execution_count": 2,
      "outputs": []
    },
    {
      "cell_type": "markdown",
      "source": [
        "Set all the paths of the dataset:"
      ],
      "metadata": {
        "id": "GEcvixvYa-A8"
      }
    },
    {
      "cell_type": "code",
      "source": [
        "# Set the path to the dataset\n",
        "dataset_path = \"Home fire dataset/test\"\n",
        "\n",
        "# Get the list of all images paths in the dataset\n",
        "image_paths = [os.path.join(dataset_path, \"images\", image_name) for image_name in os.listdir(os.path.join(dataset_path, \"images\"))]\n",
        "\n",
        "# Get the list of all labels paths in the dataset\n",
        "label_paths = [os.path.join(dataset_path, \"labels\", label_name) for label_name in os.listdir(os.path.join(dataset_path, \"labels\"))]\n",
        "\n",
        "print (image_paths)"
      ],
      "metadata": {
        "colab": {
          "base_uri": "https://localhost:8080/"
        },
        "id": "6xS3INAjbPTr",
        "outputId": "bbf0fe25-303d-4120-92bb-08a5fdecec18"
      },
      "execution_count": 3,
      "outputs": [
        {
          "output_type": "stream",
          "name": "stdout",
          "text": [
            "['Home fire dataset/test\\\\images\\\\test_1.jpg', 'Home fire dataset/test\\\\images\\\\test_10.jpg', 'Home fire dataset/test\\\\images\\\\test_100.jpg', 'Home fire dataset/test\\\\images\\\\test_1000.jpg', 'Home fire dataset/test\\\\images\\\\test_1001.jpg', 'Home fire dataset/test\\\\images\\\\test_1002.jpg', 'Home fire dataset/test\\\\images\\\\test_1003.jpg', 'Home fire dataset/test\\\\images\\\\test_1004.jpg', 'Home fire dataset/test\\\\images\\\\test_1005.jpg', 'Home fire dataset/test\\\\images\\\\test_1006.jpg', 'Home fire dataset/test\\\\images\\\\test_1007.jpg', 'Home fire dataset/test\\\\images\\\\test_1008.jpg', 'Home fire dataset/test\\\\images\\\\test_1009.jpg', 'Home fire dataset/test\\\\images\\\\test_101.jpg', 'Home fire dataset/test\\\\images\\\\test_1010.jpg', 'Home fire dataset/test\\\\images\\\\test_1011.jpg', 'Home fire dataset/test\\\\images\\\\test_1012.jpg', 'Home fire dataset/test\\\\images\\\\test_1013.jpg', 'Home fire dataset/test\\\\images\\\\test_1014.jpg', 'Home fire dataset/test\\\\images\\\\test_1015.jpg', 'Home fire dataset/test\\\\images\\\\test_1016.jpg', 'Home fire dataset/test\\\\images\\\\test_1017.jpg', 'Home fire dataset/test\\\\images\\\\test_1018.jpg', 'Home fire dataset/test\\\\images\\\\test_1019.jpg', 'Home fire dataset/test\\\\images\\\\test_102.jpg', 'Home fire dataset/test\\\\images\\\\test_1020.jpg', 'Home fire dataset/test\\\\images\\\\test_1021.jpg', 'Home fire dataset/test\\\\images\\\\test_1022.jpg', 'Home fire dataset/test\\\\images\\\\test_1023.jpg', 'Home fire dataset/test\\\\images\\\\test_1024.jpg', 'Home fire dataset/test\\\\images\\\\test_1025.jpg', 'Home fire dataset/test\\\\images\\\\test_1026.jpg', 'Home fire dataset/test\\\\images\\\\test_1027.jpg', 'Home fire dataset/test\\\\images\\\\test_1028.jpg', 'Home fire dataset/test\\\\images\\\\test_1029.jpg', 'Home fire dataset/test\\\\images\\\\test_103.jpg', 'Home fire dataset/test\\\\images\\\\test_1030.jpg', 'Home fire dataset/test\\\\images\\\\test_1031.jpg', 'Home fire dataset/test\\\\images\\\\test_1032.jpg', 'Home fire dataset/test\\\\images\\\\test_1033.jpg', 'Home fire dataset/test\\\\images\\\\test_1034.jpg', 'Home fire dataset/test\\\\images\\\\test_1035.jpg', 'Home fire dataset/test\\\\images\\\\test_1036.jpg', 'Home fire dataset/test\\\\images\\\\test_1037.jpg', 'Home fire dataset/test\\\\images\\\\test_1038.jpg', 'Home fire dataset/test\\\\images\\\\test_1039.jpg', 'Home fire dataset/test\\\\images\\\\test_104.jpg', 'Home fire dataset/test\\\\images\\\\test_1040.jpg', 'Home fire dataset/test\\\\images\\\\test_1041.jpg', 'Home fire dataset/test\\\\images\\\\test_1042.jpg', 'Home fire dataset/test\\\\images\\\\test_1043.jpg', 'Home fire dataset/test\\\\images\\\\test_1044.jpg', 'Home fire dataset/test\\\\images\\\\test_1045.jpg', 'Home fire dataset/test\\\\images\\\\test_1046.jpg', 'Home fire dataset/test\\\\images\\\\test_1047.jpg', 'Home fire dataset/test\\\\images\\\\test_1048.jpg', 'Home fire dataset/test\\\\images\\\\test_1049.jpg', 'Home fire dataset/test\\\\images\\\\test_105.jpg', 'Home fire dataset/test\\\\images\\\\test_1050.jpg', 'Home fire dataset/test\\\\images\\\\test_1051.jpg', 'Home fire dataset/test\\\\images\\\\test_1052.jpg', 'Home fire dataset/test\\\\images\\\\test_1053.jpg', 'Home fire dataset/test\\\\images\\\\test_1054.jpg', 'Home fire dataset/test\\\\images\\\\test_1055.jpg', 'Home fire dataset/test\\\\images\\\\test_1056.jpg', 'Home fire dataset/test\\\\images\\\\test_1057.jpg', 'Home fire dataset/test\\\\images\\\\test_1058.jpg', 'Home fire dataset/test\\\\images\\\\test_1059.jpg', 'Home fire dataset/test\\\\images\\\\test_106.jpg', 'Home fire dataset/test\\\\images\\\\test_1060.jpg', 'Home fire dataset/test\\\\images\\\\test_1061.jpg', 'Home fire dataset/test\\\\images\\\\test_1062.jpg', 'Home fire dataset/test\\\\images\\\\test_1063.jpg', 'Home fire dataset/test\\\\images\\\\test_1064.jpg', 'Home fire dataset/test\\\\images\\\\test_1065.jpg', 'Home fire dataset/test\\\\images\\\\test_1066.jpg', 'Home fire dataset/test\\\\images\\\\test_1067.jpg', 'Home fire dataset/test\\\\images\\\\test_1068.jpg', 'Home fire dataset/test\\\\images\\\\test_1069.jpg', 'Home fire dataset/test\\\\images\\\\test_107.jpg', 'Home fire dataset/test\\\\images\\\\test_1070.jpg', 'Home fire dataset/test\\\\images\\\\test_1071.jpg', 'Home fire dataset/test\\\\images\\\\test_1072.jpg', 'Home fire dataset/test\\\\images\\\\test_1073.jpg', 'Home fire dataset/test\\\\images\\\\test_1074.jpg', 'Home fire dataset/test\\\\images\\\\test_1075.jpg', 'Home fire dataset/test\\\\images\\\\test_1076.jpg', 'Home fire dataset/test\\\\images\\\\test_1077.jpg', 'Home fire dataset/test\\\\images\\\\test_1078.jpg', 'Home fire dataset/test\\\\images\\\\test_1079.jpg', 'Home fire dataset/test\\\\images\\\\test_108.jpg', 'Home fire dataset/test\\\\images\\\\test_1080.jpg', 'Home fire dataset/test\\\\images\\\\test_1081.jpg', 'Home fire dataset/test\\\\images\\\\test_1082.jpg', 'Home fire dataset/test\\\\images\\\\test_1083.jpg', 'Home fire dataset/test\\\\images\\\\test_1084.jpg', 'Home fire dataset/test\\\\images\\\\test_1085.jpg', 'Home fire dataset/test\\\\images\\\\test_1086.jpg', 'Home fire dataset/test\\\\images\\\\test_1087.jpg', 'Home fire dataset/test\\\\images\\\\test_1088.jpg', 'Home fire dataset/test\\\\images\\\\test_1089.jpg', 'Home fire dataset/test\\\\images\\\\test_109.jpg', 'Home fire dataset/test\\\\images\\\\test_1090.jpg', 'Home fire dataset/test\\\\images\\\\test_1091.jpg', 'Home fire dataset/test\\\\images\\\\test_1092.jpg', 'Home fire dataset/test\\\\images\\\\test_1093.jpg', 'Home fire dataset/test\\\\images\\\\test_1094.jpg', 'Home fire dataset/test\\\\images\\\\test_1095.jpg', 'Home fire dataset/test\\\\images\\\\test_1096.jpg', 'Home fire dataset/test\\\\images\\\\test_1097.jpg', 'Home fire dataset/test\\\\images\\\\test_1098.jpg', 'Home fire dataset/test\\\\images\\\\test_1099.jpg', 'Home fire dataset/test\\\\images\\\\test_11.jpg', 'Home fire dataset/test\\\\images\\\\test_110.jpg', 'Home fire dataset/test\\\\images\\\\test_1100.jpg', 'Home fire dataset/test\\\\images\\\\test_1101.jpg', 'Home fire dataset/test\\\\images\\\\test_1102.jpg', 'Home fire dataset/test\\\\images\\\\test_1103.jpg', 'Home fire dataset/test\\\\images\\\\test_1104.jpg', 'Home fire dataset/test\\\\images\\\\test_1105.jpg', 'Home fire dataset/test\\\\images\\\\test_1106.jpg', 'Home fire dataset/test\\\\images\\\\test_1107.jpg', 'Home fire dataset/test\\\\images\\\\test_1108.jpg', 'Home fire dataset/test\\\\images\\\\test_1109.jpg', 'Home fire dataset/test\\\\images\\\\test_111.jpg', 'Home fire dataset/test\\\\images\\\\test_1110.jpg', 'Home fire dataset/test\\\\images\\\\test_1111.jpg', 'Home fire dataset/test\\\\images\\\\test_1112.jpg', 'Home fire dataset/test\\\\images\\\\test_1113.jpg', 'Home fire dataset/test\\\\images\\\\test_1114.jpg', 'Home fire dataset/test\\\\images\\\\test_1115.jpg', 'Home fire dataset/test\\\\images\\\\test_1116.jpg', 'Home fire dataset/test\\\\images\\\\test_1117.jpg', 'Home fire dataset/test\\\\images\\\\test_1118.jpg', 'Home fire dataset/test\\\\images\\\\test_1119.jpg', 'Home fire dataset/test\\\\images\\\\test_112.jpg', 'Home fire dataset/test\\\\images\\\\test_1120.jpg', 'Home fire dataset/test\\\\images\\\\test_1121.jpg', 'Home fire dataset/test\\\\images\\\\test_1122.jpg', 'Home fire dataset/test\\\\images\\\\test_1123.jpg', 'Home fire dataset/test\\\\images\\\\test_1124.jpg', 'Home fire dataset/test\\\\images\\\\test_1125.jpg', 'Home fire dataset/test\\\\images\\\\test_1126.jpg', 'Home fire dataset/test\\\\images\\\\test_1127.jpg', 'Home fire dataset/test\\\\images\\\\test_1128.jpg', 'Home fire dataset/test\\\\images\\\\test_1129.jpg', 'Home fire dataset/test\\\\images\\\\test_113.jpg', 'Home fire dataset/test\\\\images\\\\test_1130.jpg', 'Home fire dataset/test\\\\images\\\\test_1131.jpg', 'Home fire dataset/test\\\\images\\\\test_1132.jpg', 'Home fire dataset/test\\\\images\\\\test_1133.jpg', 'Home fire dataset/test\\\\images\\\\test_1134.jpg', 'Home fire dataset/test\\\\images\\\\test_1135.jpg', 'Home fire dataset/test\\\\images\\\\test_1136.jpg', 'Home fire dataset/test\\\\images\\\\test_1137.jpg', 'Home fire dataset/test\\\\images\\\\test_1138.jpg', 'Home fire dataset/test\\\\images\\\\test_1139.jpg', 'Home fire dataset/test\\\\images\\\\test_114.jpg', 'Home fire dataset/test\\\\images\\\\test_1140.jpg', 'Home fire dataset/test\\\\images\\\\test_1141.jpg', 'Home fire dataset/test\\\\images\\\\test_1142.jpg', 'Home fire dataset/test\\\\images\\\\test_1143.jpg', 'Home fire dataset/test\\\\images\\\\test_1144.jpg', 'Home fire dataset/test\\\\images\\\\test_1145.jpg', 'Home fire dataset/test\\\\images\\\\test_1146.jpg', 'Home fire dataset/test\\\\images\\\\test_1147.jpg', 'Home fire dataset/test\\\\images\\\\test_1148.jpg', 'Home fire dataset/test\\\\images\\\\test_1149.jpg', 'Home fire dataset/test\\\\images\\\\test_115.jpg', 'Home fire dataset/test\\\\images\\\\test_1150.jpg', 'Home fire dataset/test\\\\images\\\\test_1151.jpg', 'Home fire dataset/test\\\\images\\\\test_1152.jpg', 'Home fire dataset/test\\\\images\\\\test_1153.jpg', 'Home fire dataset/test\\\\images\\\\test_1154.jpg', 'Home fire dataset/test\\\\images\\\\test_1155.jpg', 'Home fire dataset/test\\\\images\\\\test_1156.jpg', 'Home fire dataset/test\\\\images\\\\test_1157.jpg', 'Home fire dataset/test\\\\images\\\\test_1158.jpg', 'Home fire dataset/test\\\\images\\\\test_1159.jpg', 'Home fire dataset/test\\\\images\\\\test_116.jpg', 'Home fire dataset/test\\\\images\\\\test_1160.jpg', 'Home fire dataset/test\\\\images\\\\test_1161.jpg', 'Home fire dataset/test\\\\images\\\\test_1162.jpg', 'Home fire dataset/test\\\\images\\\\test_1163.jpg', 'Home fire dataset/test\\\\images\\\\test_1164.jpg', 'Home fire dataset/test\\\\images\\\\test_1165.jpg', 'Home fire dataset/test\\\\images\\\\test_1166.jpg', 'Home fire dataset/test\\\\images\\\\test_1167.jpg', 'Home fire dataset/test\\\\images\\\\test_1168.jpg', 'Home fire dataset/test\\\\images\\\\test_1169.jpg', 'Home fire dataset/test\\\\images\\\\test_117.jpg', 'Home fire dataset/test\\\\images\\\\test_1170.jpg', 'Home fire dataset/test\\\\images\\\\test_1171.jpg', 'Home fire dataset/test\\\\images\\\\test_1172.jpg', 'Home fire dataset/test\\\\images\\\\test_1173.jpg', 'Home fire dataset/test\\\\images\\\\test_1174.jpg', 'Home fire dataset/test\\\\images\\\\test_1175.jpg', 'Home fire dataset/test\\\\images\\\\test_1176.jpg', 'Home fire dataset/test\\\\images\\\\test_1177.jpg', 'Home fire dataset/test\\\\images\\\\test_1178.jpg', 'Home fire dataset/test\\\\images\\\\test_1179.jpg', 'Home fire dataset/test\\\\images\\\\test_118.jpg', 'Home fire dataset/test\\\\images\\\\test_1180.jpg', 'Home fire dataset/test\\\\images\\\\test_1181.jpg', 'Home fire dataset/test\\\\images\\\\test_1182.jpg', 'Home fire dataset/test\\\\images\\\\test_1183.jpg', 'Home fire dataset/test\\\\images\\\\test_1184.jpg', 'Home fire dataset/test\\\\images\\\\test_1185.jpg', 'Home fire dataset/test\\\\images\\\\test_1186.jpg', 'Home fire dataset/test\\\\images\\\\test_1187.jpg', 'Home fire dataset/test\\\\images\\\\test_1188.jpg', 'Home fire dataset/test\\\\images\\\\test_1189.jpg', 'Home fire dataset/test\\\\images\\\\test_119.jpg', 'Home fire dataset/test\\\\images\\\\test_1190.jpg', 'Home fire dataset/test\\\\images\\\\test_1191.jpg', 'Home fire dataset/test\\\\images\\\\test_1192.jpg', 'Home fire dataset/test\\\\images\\\\test_1193.jpg', 'Home fire dataset/test\\\\images\\\\test_1194.jpg', 'Home fire dataset/test\\\\images\\\\test_1195.jpg', 'Home fire dataset/test\\\\images\\\\test_1196.jpg', 'Home fire dataset/test\\\\images\\\\test_1197.jpg', 'Home fire dataset/test\\\\images\\\\test_1198.jpg', 'Home fire dataset/test\\\\images\\\\test_1199.jpg', 'Home fire dataset/test\\\\images\\\\test_12.jpg', 'Home fire dataset/test\\\\images\\\\test_120.jpg', 'Home fire dataset/test\\\\images\\\\test_1200.jpg', 'Home fire dataset/test\\\\images\\\\test_1201.jpg', 'Home fire dataset/test\\\\images\\\\test_1202.jpg', 'Home fire dataset/test\\\\images\\\\test_1203.jpg', 'Home fire dataset/test\\\\images\\\\test_1204.jpg', 'Home fire dataset/test\\\\images\\\\test_1205.jpg', 'Home fire dataset/test\\\\images\\\\test_1206.jpg', 'Home fire dataset/test\\\\images\\\\test_1207.jpg', 'Home fire dataset/test\\\\images\\\\test_1208.jpg', 'Home fire dataset/test\\\\images\\\\test_1209.jpg', 'Home fire dataset/test\\\\images\\\\test_121.jpg', 'Home fire dataset/test\\\\images\\\\test_1210.jpg', 'Home fire dataset/test\\\\images\\\\test_1211.jpg', 'Home fire dataset/test\\\\images\\\\test_1212.jpg', 'Home fire dataset/test\\\\images\\\\test_1213.jpg', 'Home fire dataset/test\\\\images\\\\test_1214.jpg', 'Home fire dataset/test\\\\images\\\\test_1215.jpg', 'Home fire dataset/test\\\\images\\\\test_1216.jpg', 'Home fire dataset/test\\\\images\\\\test_1217.jpg', 'Home fire dataset/test\\\\images\\\\test_1218.jpg', 'Home fire dataset/test\\\\images\\\\test_1219.jpg', 'Home fire dataset/test\\\\images\\\\test_122.jpg', 'Home fire dataset/test\\\\images\\\\test_1220.jpg', 'Home fire dataset/test\\\\images\\\\test_1221.jpg', 'Home fire dataset/test\\\\images\\\\test_1222.jpg', 'Home fire dataset/test\\\\images\\\\test_1223.jpg', 'Home fire dataset/test\\\\images\\\\test_1224.jpg', 'Home fire dataset/test\\\\images\\\\test_1225.jpg', 'Home fire dataset/test\\\\images\\\\test_1226.jpg', 'Home fire dataset/test\\\\images\\\\test_1227.jpg', 'Home fire dataset/test\\\\images\\\\test_1228.jpg', 'Home fire dataset/test\\\\images\\\\test_1229.jpg', 'Home fire dataset/test\\\\images\\\\test_123.jpg', 'Home fire dataset/test\\\\images\\\\test_1230.jpg', 'Home fire dataset/test\\\\images\\\\test_1231.jpg', 'Home fire dataset/test\\\\images\\\\test_1232.jpg', 'Home fire dataset/test\\\\images\\\\test_1233.jpg', 'Home fire dataset/test\\\\images\\\\test_1234.jpg', 'Home fire dataset/test\\\\images\\\\test_1235.jpg', 'Home fire dataset/test\\\\images\\\\test_1236.jpg', 'Home fire dataset/test\\\\images\\\\test_1237.jpg', 'Home fire dataset/test\\\\images\\\\test_1238.jpg', 'Home fire dataset/test\\\\images\\\\test_1239.jpg', 'Home fire dataset/test\\\\images\\\\test_124.jpg', 'Home fire dataset/test\\\\images\\\\test_1240.jpg', 'Home fire dataset/test\\\\images\\\\test_1241.jpg', 'Home fire dataset/test\\\\images\\\\test_1242.jpg', 'Home fire dataset/test\\\\images\\\\test_1243.jpg', 'Home fire dataset/test\\\\images\\\\test_1244.jpg', 'Home fire dataset/test\\\\images\\\\test_1245.jpg', 'Home fire dataset/test\\\\images\\\\test_1246.jpg', 'Home fire dataset/test\\\\images\\\\test_1247.jpg', 'Home fire dataset/test\\\\images\\\\test_1248.jpg', 'Home fire dataset/test\\\\images\\\\test_1249.jpg', 'Home fire dataset/test\\\\images\\\\test_125.jpg', 'Home fire dataset/test\\\\images\\\\test_1250.jpg', 'Home fire dataset/test\\\\images\\\\test_1251.jpg', 'Home fire dataset/test\\\\images\\\\test_1252.jpg', 'Home fire dataset/test\\\\images\\\\test_1253.jpg', 'Home fire dataset/test\\\\images\\\\test_1254.jpg', 'Home fire dataset/test\\\\images\\\\test_1255.jpg', 'Home fire dataset/test\\\\images\\\\test_1256.jpg', 'Home fire dataset/test\\\\images\\\\test_1257.jpg', 'Home fire dataset/test\\\\images\\\\test_1258.jpg', 'Home fire dataset/test\\\\images\\\\test_1259.jpg', 'Home fire dataset/test\\\\images\\\\test_126.jpg', 'Home fire dataset/test\\\\images\\\\test_1260.jpg', 'Home fire dataset/test\\\\images\\\\test_1261.jpg', 'Home fire dataset/test\\\\images\\\\test_1262.jpg', 'Home fire dataset/test\\\\images\\\\test_1263.jpg', 'Home fire dataset/test\\\\images\\\\test_1264.jpg', 'Home fire dataset/test\\\\images\\\\test_1265.jpg', 'Home fire dataset/test\\\\images\\\\test_1266.jpg', 'Home fire dataset/test\\\\images\\\\test_1267.jpg', 'Home fire dataset/test\\\\images\\\\test_1268.jpg', 'Home fire dataset/test\\\\images\\\\test_1269.jpg', 'Home fire dataset/test\\\\images\\\\test_127.jpg', 'Home fire dataset/test\\\\images\\\\test_1270.jpg', 'Home fire dataset/test\\\\images\\\\test_1271.jpg', 'Home fire dataset/test\\\\images\\\\test_1272.jpg', 'Home fire dataset/test\\\\images\\\\test_1273.jpg', 'Home fire dataset/test\\\\images\\\\test_1274.jpg', 'Home fire dataset/test\\\\images\\\\test_1275.jpg', 'Home fire dataset/test\\\\images\\\\test_1276.jpg', 'Home fire dataset/test\\\\images\\\\test_1277.jpg', 'Home fire dataset/test\\\\images\\\\test_1278.jpg', 'Home fire dataset/test\\\\images\\\\test_1279.jpg', 'Home fire dataset/test\\\\images\\\\test_128.jpg', 'Home fire dataset/test\\\\images\\\\test_1280.jpg', 'Home fire dataset/test\\\\images\\\\test_1281.jpg', 'Home fire dataset/test\\\\images\\\\test_1282.jpg', 'Home fire dataset/test\\\\images\\\\test_1283.jpg', 'Home fire dataset/test\\\\images\\\\test_1284.jpg', 'Home fire dataset/test\\\\images\\\\test_1285.jpg', 'Home fire dataset/test\\\\images\\\\test_1286.jpg', 'Home fire dataset/test\\\\images\\\\test_1287.jpg', 'Home fire dataset/test\\\\images\\\\test_1288.jpg', 'Home fire dataset/test\\\\images\\\\test_1289.jpg', 'Home fire dataset/test\\\\images\\\\test_129.jpg', 'Home fire dataset/test\\\\images\\\\test_1290.jpg', 'Home fire dataset/test\\\\images\\\\test_1291.jpg', 'Home fire dataset/test\\\\images\\\\test_1292.jpg', 'Home fire dataset/test\\\\images\\\\test_1293.jpg', 'Home fire dataset/test\\\\images\\\\test_1294.jpg', 'Home fire dataset/test\\\\images\\\\test_1295.jpg', 'Home fire dataset/test\\\\images\\\\test_1296.jpg', 'Home fire dataset/test\\\\images\\\\test_1297.jpg', 'Home fire dataset/test\\\\images\\\\test_1298.jpg', 'Home fire dataset/test\\\\images\\\\test_1299.jpg', 'Home fire dataset/test\\\\images\\\\test_13.jpg', 'Home fire dataset/test\\\\images\\\\test_130.jpg', 'Home fire dataset/test\\\\images\\\\test_1300.jpg', 'Home fire dataset/test\\\\images\\\\test_131.jpg', 'Home fire dataset/test\\\\images\\\\test_132.jpg', 'Home fire dataset/test\\\\images\\\\test_133.jpg', 'Home fire dataset/test\\\\images\\\\test_134.jpg', 'Home fire dataset/test\\\\images\\\\test_135.jpg', 'Home fire dataset/test\\\\images\\\\test_136.jpg', 'Home fire dataset/test\\\\images\\\\test_137.jpg', 'Home fire dataset/test\\\\images\\\\test_138.jpg', 'Home fire dataset/test\\\\images\\\\test_139.jpg', 'Home fire dataset/test\\\\images\\\\test_14.jpg', 'Home fire dataset/test\\\\images\\\\test_140.jpg', 'Home fire dataset/test\\\\images\\\\test_141.jpg', 'Home fire dataset/test\\\\images\\\\test_142.jpg', 'Home fire dataset/test\\\\images\\\\test_143.jpg', 'Home fire dataset/test\\\\images\\\\test_144.jpg', 'Home fire dataset/test\\\\images\\\\test_145.jpg', 'Home fire dataset/test\\\\images\\\\test_146.jpg', 'Home fire dataset/test\\\\images\\\\test_147.jpg', 'Home fire dataset/test\\\\images\\\\test_148.jpg', 'Home fire dataset/test\\\\images\\\\test_149.jpg', 'Home fire dataset/test\\\\images\\\\test_15.jpg', 'Home fire dataset/test\\\\images\\\\test_150.jpg', 'Home fire dataset/test\\\\images\\\\test_151.jpg', 'Home fire dataset/test\\\\images\\\\test_152.jpg', 'Home fire dataset/test\\\\images\\\\test_153.jpg', 'Home fire dataset/test\\\\images\\\\test_154.jpg', 'Home fire dataset/test\\\\images\\\\test_155.jpg', 'Home fire dataset/test\\\\images\\\\test_156.jpg', 'Home fire dataset/test\\\\images\\\\test_157.jpg', 'Home fire dataset/test\\\\images\\\\test_158.jpg', 'Home fire dataset/test\\\\images\\\\test_159.jpg', 'Home fire dataset/test\\\\images\\\\test_16.jpg', 'Home fire dataset/test\\\\images\\\\test_160.jpg', 'Home fire dataset/test\\\\images\\\\test_161.jpg', 'Home fire dataset/test\\\\images\\\\test_162.jpg', 'Home fire dataset/test\\\\images\\\\test_163.jpg', 'Home fire dataset/test\\\\images\\\\test_164.jpg', 'Home fire dataset/test\\\\images\\\\test_165.jpg', 'Home fire dataset/test\\\\images\\\\test_166.jpg', 'Home fire dataset/test\\\\images\\\\test_167.jpg', 'Home fire dataset/test\\\\images\\\\test_168.jpg', 'Home fire dataset/test\\\\images\\\\test_169.jpg', 'Home fire dataset/test\\\\images\\\\test_17.jpg', 'Home fire dataset/test\\\\images\\\\test_170.jpg', 'Home fire dataset/test\\\\images\\\\test_171.jpg', 'Home fire dataset/test\\\\images\\\\test_172.jpg', 'Home fire dataset/test\\\\images\\\\test_173.jpg', 'Home fire dataset/test\\\\images\\\\test_174.jpg', 'Home fire dataset/test\\\\images\\\\test_175.jpg', 'Home fire dataset/test\\\\images\\\\test_176.jpg', 'Home fire dataset/test\\\\images\\\\test_177.jpg', 'Home fire dataset/test\\\\images\\\\test_178.jpg', 'Home fire dataset/test\\\\images\\\\test_179.jpg', 'Home fire dataset/test\\\\images\\\\test_18.jpg', 'Home fire dataset/test\\\\images\\\\test_180.jpg', 'Home fire dataset/test\\\\images\\\\test_181.jpg', 'Home fire dataset/test\\\\images\\\\test_182.jpg', 'Home fire dataset/test\\\\images\\\\test_183.jpg', 'Home fire dataset/test\\\\images\\\\test_184.jpg', 'Home fire dataset/test\\\\images\\\\test_185.jpg', 'Home fire dataset/test\\\\images\\\\test_186.jpg', 'Home fire dataset/test\\\\images\\\\test_187.jpg', 'Home fire dataset/test\\\\images\\\\test_188.jpg', 'Home fire dataset/test\\\\images\\\\test_189.jpg', 'Home fire dataset/test\\\\images\\\\test_19.jpg', 'Home fire dataset/test\\\\images\\\\test_190.jpg', 'Home fire dataset/test\\\\images\\\\test_191.jpg', 'Home fire dataset/test\\\\images\\\\test_192.jpg', 'Home fire dataset/test\\\\images\\\\test_193.jpg', 'Home fire dataset/test\\\\images\\\\test_194.jpg', 'Home fire dataset/test\\\\images\\\\test_195.jpg', 'Home fire dataset/test\\\\images\\\\test_196.jpg', 'Home fire dataset/test\\\\images\\\\test_197.jpg', 'Home fire dataset/test\\\\images\\\\test_198.jpg', 'Home fire dataset/test\\\\images\\\\test_199.jpg', 'Home fire dataset/test\\\\images\\\\test_2.jpg', 'Home fire dataset/test\\\\images\\\\test_20.jpg', 'Home fire dataset/test\\\\images\\\\test_200.jpg', 'Home fire dataset/test\\\\images\\\\test_201.jpg', 'Home fire dataset/test\\\\images\\\\test_202.jpg', 'Home fire dataset/test\\\\images\\\\test_203.jpg', 'Home fire dataset/test\\\\images\\\\test_204.jpg', 'Home fire dataset/test\\\\images\\\\test_205.jpg', 'Home fire dataset/test\\\\images\\\\test_206.jpg', 'Home fire dataset/test\\\\images\\\\test_207.jpg', 'Home fire dataset/test\\\\images\\\\test_208.jpg', 'Home fire dataset/test\\\\images\\\\test_209.jpg', 'Home fire dataset/test\\\\images\\\\test_21.jpg', 'Home fire dataset/test\\\\images\\\\test_210.jpg', 'Home fire dataset/test\\\\images\\\\test_211.jpg', 'Home fire dataset/test\\\\images\\\\test_212.jpg', 'Home fire dataset/test\\\\images\\\\test_213.jpg', 'Home fire dataset/test\\\\images\\\\test_214.jpg', 'Home fire dataset/test\\\\images\\\\test_215.jpg', 'Home fire dataset/test\\\\images\\\\test_216.jpg', 'Home fire dataset/test\\\\images\\\\test_217.jpg', 'Home fire dataset/test\\\\images\\\\test_218.jpg', 'Home fire dataset/test\\\\images\\\\test_219.jpg', 'Home fire dataset/test\\\\images\\\\test_22.jpg', 'Home fire dataset/test\\\\images\\\\test_220.jpg', 'Home fire dataset/test\\\\images\\\\test_221.jpg', 'Home fire dataset/test\\\\images\\\\test_222.jpg', 'Home fire dataset/test\\\\images\\\\test_223.jpg', 'Home fire dataset/test\\\\images\\\\test_224.jpg', 'Home fire dataset/test\\\\images\\\\test_225.jpg', 'Home fire dataset/test\\\\images\\\\test_226.jpg', 'Home fire dataset/test\\\\images\\\\test_227.jpg', 'Home fire dataset/test\\\\images\\\\test_228.jpg', 'Home fire dataset/test\\\\images\\\\test_229.jpg', 'Home fire dataset/test\\\\images\\\\test_23.jpg', 'Home fire dataset/test\\\\images\\\\test_230.jpg', 'Home fire dataset/test\\\\images\\\\test_231.jpg', 'Home fire dataset/test\\\\images\\\\test_232.jpg', 'Home fire dataset/test\\\\images\\\\test_233.jpg', 'Home fire dataset/test\\\\images\\\\test_234.jpg', 'Home fire dataset/test\\\\images\\\\test_235.jpg', 'Home fire dataset/test\\\\images\\\\test_236.jpg', 'Home fire dataset/test\\\\images\\\\test_237.jpg', 'Home fire dataset/test\\\\images\\\\test_238.jpg', 'Home fire dataset/test\\\\images\\\\test_239.jpg', 'Home fire dataset/test\\\\images\\\\test_24.jpg', 'Home fire dataset/test\\\\images\\\\test_240.jpg', 'Home fire dataset/test\\\\images\\\\test_241.jpg', 'Home fire dataset/test\\\\images\\\\test_242.jpg', 'Home fire dataset/test\\\\images\\\\test_243.jpg', 'Home fire dataset/test\\\\images\\\\test_244.jpg', 'Home fire dataset/test\\\\images\\\\test_245.jpg', 'Home fire dataset/test\\\\images\\\\test_246.jpg', 'Home fire dataset/test\\\\images\\\\test_247.jpg', 'Home fire dataset/test\\\\images\\\\test_248.jpg', 'Home fire dataset/test\\\\images\\\\test_249.jpg', 'Home fire dataset/test\\\\images\\\\test_25.jpg', 'Home fire dataset/test\\\\images\\\\test_250.jpg', 'Home fire dataset/test\\\\images\\\\test_251.jpg', 'Home fire dataset/test\\\\images\\\\test_252.jpg', 'Home fire dataset/test\\\\images\\\\test_253.jpg', 'Home fire dataset/test\\\\images\\\\test_254.jpg', 'Home fire dataset/test\\\\images\\\\test_255.jpg', 'Home fire dataset/test\\\\images\\\\test_256.jpg', 'Home fire dataset/test\\\\images\\\\test_257.jpg', 'Home fire dataset/test\\\\images\\\\test_258.jpg', 'Home fire dataset/test\\\\images\\\\test_259.jpg', 'Home fire dataset/test\\\\images\\\\test_26.jpg', 'Home fire dataset/test\\\\images\\\\test_260.jpg', 'Home fire dataset/test\\\\images\\\\test_261.jpg', 'Home fire dataset/test\\\\images\\\\test_262.jpg', 'Home fire dataset/test\\\\images\\\\test_263.jpg', 'Home fire dataset/test\\\\images\\\\test_264.jpg', 'Home fire dataset/test\\\\images\\\\test_265.jpg', 'Home fire dataset/test\\\\images\\\\test_266.jpg', 'Home fire dataset/test\\\\images\\\\test_267.jpg', 'Home fire dataset/test\\\\images\\\\test_268.jpg', 'Home fire dataset/test\\\\images\\\\test_269.jpg', 'Home fire dataset/test\\\\images\\\\test_27.jpg', 'Home fire dataset/test\\\\images\\\\test_270.jpg', 'Home fire dataset/test\\\\images\\\\test_271.jpg', 'Home fire dataset/test\\\\images\\\\test_272.jpg', 'Home fire dataset/test\\\\images\\\\test_273.jpg', 'Home fire dataset/test\\\\images\\\\test_274.jpg', 'Home fire dataset/test\\\\images\\\\test_275.jpg', 'Home fire dataset/test\\\\images\\\\test_276.jpg', 'Home fire dataset/test\\\\images\\\\test_277.jpg', 'Home fire dataset/test\\\\images\\\\test_278.jpg', 'Home fire dataset/test\\\\images\\\\test_279.jpg', 'Home fire dataset/test\\\\images\\\\test_28.jpg', 'Home fire dataset/test\\\\images\\\\test_280.jpg', 'Home fire dataset/test\\\\images\\\\test_281.jpg', 'Home fire dataset/test\\\\images\\\\test_282.jpg', 'Home fire dataset/test\\\\images\\\\test_283.jpg', 'Home fire dataset/test\\\\images\\\\test_284.jpg', 'Home fire dataset/test\\\\images\\\\test_285.jpg', 'Home fire dataset/test\\\\images\\\\test_286.jpg', 'Home fire dataset/test\\\\images\\\\test_287.jpg', 'Home fire dataset/test\\\\images\\\\test_288.jpg', 'Home fire dataset/test\\\\images\\\\test_289.jpg', 'Home fire dataset/test\\\\images\\\\test_29.jpg', 'Home fire dataset/test\\\\images\\\\test_290.jpg', 'Home fire dataset/test\\\\images\\\\test_291.jpg', 'Home fire dataset/test\\\\images\\\\test_292.jpg', 'Home fire dataset/test\\\\images\\\\test_293.jpg', 'Home fire dataset/test\\\\images\\\\test_294.jpg', 'Home fire dataset/test\\\\images\\\\test_295.jpg', 'Home fire dataset/test\\\\images\\\\test_296.jpg', 'Home fire dataset/test\\\\images\\\\test_297.jpg', 'Home fire dataset/test\\\\images\\\\test_298.jpg', 'Home fire dataset/test\\\\images\\\\test_299.jpg', 'Home fire dataset/test\\\\images\\\\test_3.jpg', 'Home fire dataset/test\\\\images\\\\test_30.jpg', 'Home fire dataset/test\\\\images\\\\test_300.jpg', 'Home fire dataset/test\\\\images\\\\test_301.jpg', 'Home fire dataset/test\\\\images\\\\test_302.jpg', 'Home fire dataset/test\\\\images\\\\test_303.jpg', 'Home fire dataset/test\\\\images\\\\test_304.jpg', 'Home fire dataset/test\\\\images\\\\test_305.jpg', 'Home fire dataset/test\\\\images\\\\test_306.jpg', 'Home fire dataset/test\\\\images\\\\test_307.jpg', 'Home fire dataset/test\\\\images\\\\test_308.jpg', 'Home fire dataset/test\\\\images\\\\test_309.jpg', 'Home fire dataset/test\\\\images\\\\test_31.jpg', 'Home fire dataset/test\\\\images\\\\test_310.jpg', 'Home fire dataset/test\\\\images\\\\test_311.jpg', 'Home fire dataset/test\\\\images\\\\test_312.jpg', 'Home fire dataset/test\\\\images\\\\test_313.jpg', 'Home fire dataset/test\\\\images\\\\test_314.jpg', 'Home fire dataset/test\\\\images\\\\test_315.jpg', 'Home fire dataset/test\\\\images\\\\test_316.jpg', 'Home fire dataset/test\\\\images\\\\test_317.jpg', 'Home fire dataset/test\\\\images\\\\test_318.jpg', 'Home fire dataset/test\\\\images\\\\test_319.jpg', 'Home fire dataset/test\\\\images\\\\test_32.jpg', 'Home fire dataset/test\\\\images\\\\test_320.jpg', 'Home fire dataset/test\\\\images\\\\test_321.jpg', 'Home fire dataset/test\\\\images\\\\test_322.jpg', 'Home fire dataset/test\\\\images\\\\test_323.jpg', 'Home fire dataset/test\\\\images\\\\test_324.jpg', 'Home fire dataset/test\\\\images\\\\test_325.jpg', 'Home fire dataset/test\\\\images\\\\test_326.jpg', 'Home fire dataset/test\\\\images\\\\test_327.jpg', 'Home fire dataset/test\\\\images\\\\test_328.jpg', 'Home fire dataset/test\\\\images\\\\test_329.jpg', 'Home fire dataset/test\\\\images\\\\test_33.jpg', 'Home fire dataset/test\\\\images\\\\test_330.jpg', 'Home fire dataset/test\\\\images\\\\test_331.jpg', 'Home fire dataset/test\\\\images\\\\test_332.jpg', 'Home fire dataset/test\\\\images\\\\test_333.jpg', 'Home fire dataset/test\\\\images\\\\test_334.jpg', 'Home fire dataset/test\\\\images\\\\test_335.jpg', 'Home fire dataset/test\\\\images\\\\test_336.jpg', 'Home fire dataset/test\\\\images\\\\test_337.jpg', 'Home fire dataset/test\\\\images\\\\test_338.jpg', 'Home fire dataset/test\\\\images\\\\test_339.jpg', 'Home fire dataset/test\\\\images\\\\test_34.jpg', 'Home fire dataset/test\\\\images\\\\test_340.jpg', 'Home fire dataset/test\\\\images\\\\test_341.jpg', 'Home fire dataset/test\\\\images\\\\test_342.jpg', 'Home fire dataset/test\\\\images\\\\test_343.jpg', 'Home fire dataset/test\\\\images\\\\test_344.jpg', 'Home fire dataset/test\\\\images\\\\test_345.jpg', 'Home fire dataset/test\\\\images\\\\test_346.jpg', 'Home fire dataset/test\\\\images\\\\test_347.jpg', 'Home fire dataset/test\\\\images\\\\test_348.jpg', 'Home fire dataset/test\\\\images\\\\test_349.jpg', 'Home fire dataset/test\\\\images\\\\test_35.jpg', 'Home fire dataset/test\\\\images\\\\test_350.jpg', 'Home fire dataset/test\\\\images\\\\test_351.jpg', 'Home fire dataset/test\\\\images\\\\test_352.jpg', 'Home fire dataset/test\\\\images\\\\test_353.jpg', 'Home fire dataset/test\\\\images\\\\test_354.jpg', 'Home fire dataset/test\\\\images\\\\test_355.jpg', 'Home fire dataset/test\\\\images\\\\test_356.jpg', 'Home fire dataset/test\\\\images\\\\test_357.jpg', 'Home fire dataset/test\\\\images\\\\test_358.jpg', 'Home fire dataset/test\\\\images\\\\test_359.jpg', 'Home fire dataset/test\\\\images\\\\test_36.jpg', 'Home fire dataset/test\\\\images\\\\test_360.jpg', 'Home fire dataset/test\\\\images\\\\test_361.jpg', 'Home fire dataset/test\\\\images\\\\test_362.jpg', 'Home fire dataset/test\\\\images\\\\test_363.jpg', 'Home fire dataset/test\\\\images\\\\test_364.jpg', 'Home fire dataset/test\\\\images\\\\test_365.jpg', 'Home fire dataset/test\\\\images\\\\test_366.jpg', 'Home fire dataset/test\\\\images\\\\test_367.jpg', 'Home fire dataset/test\\\\images\\\\test_368.jpg', 'Home fire dataset/test\\\\images\\\\test_369.jpg', 'Home fire dataset/test\\\\images\\\\test_37.jpg', 'Home fire dataset/test\\\\images\\\\test_370.jpg', 'Home fire dataset/test\\\\images\\\\test_371.jpg', 'Home fire dataset/test\\\\images\\\\test_372.jpg', 'Home fire dataset/test\\\\images\\\\test_373.jpg', 'Home fire dataset/test\\\\images\\\\test_374.jpg', 'Home fire dataset/test\\\\images\\\\test_375.jpg', 'Home fire dataset/test\\\\images\\\\test_376.jpg', 'Home fire dataset/test\\\\images\\\\test_377.jpg', 'Home fire dataset/test\\\\images\\\\test_378.jpg', 'Home fire dataset/test\\\\images\\\\test_379.jpg', 'Home fire dataset/test\\\\images\\\\test_38.jpg', 'Home fire dataset/test\\\\images\\\\test_380.jpg', 'Home fire dataset/test\\\\images\\\\test_381.jpg', 'Home fire dataset/test\\\\images\\\\test_382.jpg', 'Home fire dataset/test\\\\images\\\\test_383.jpg', 'Home fire dataset/test\\\\images\\\\test_384.jpg', 'Home fire dataset/test\\\\images\\\\test_385.jpg', 'Home fire dataset/test\\\\images\\\\test_386.jpg', 'Home fire dataset/test\\\\images\\\\test_387.jpg', 'Home fire dataset/test\\\\images\\\\test_388.jpg', 'Home fire dataset/test\\\\images\\\\test_389.jpg', 'Home fire dataset/test\\\\images\\\\test_39.jpg', 'Home fire dataset/test\\\\images\\\\test_390.jpg', 'Home fire dataset/test\\\\images\\\\test_391.jpg', 'Home fire dataset/test\\\\images\\\\test_392.jpg', 'Home fire dataset/test\\\\images\\\\test_393.jpg', 'Home fire dataset/test\\\\images\\\\test_394.jpg', 'Home fire dataset/test\\\\images\\\\test_395.jpg', 'Home fire dataset/test\\\\images\\\\test_396.jpg', 'Home fire dataset/test\\\\images\\\\test_397.jpg', 'Home fire dataset/test\\\\images\\\\test_398.jpg', 'Home fire dataset/test\\\\images\\\\test_399.jpg', 'Home fire dataset/test\\\\images\\\\test_4.jpg', 'Home fire dataset/test\\\\images\\\\test_40.jpg', 'Home fire dataset/test\\\\images\\\\test_400.jpg', 'Home fire dataset/test\\\\images\\\\test_401.jpg', 'Home fire dataset/test\\\\images\\\\test_402.jpg', 'Home fire dataset/test\\\\images\\\\test_403.jpg', 'Home fire dataset/test\\\\images\\\\test_404.jpg', 'Home fire dataset/test\\\\images\\\\test_405.jpg', 'Home fire dataset/test\\\\images\\\\test_406.jpg', 'Home fire dataset/test\\\\images\\\\test_407.jpg', 'Home fire dataset/test\\\\images\\\\test_408.jpg', 'Home fire dataset/test\\\\images\\\\test_409.jpg', 'Home fire dataset/test\\\\images\\\\test_41.jpg', 'Home fire dataset/test\\\\images\\\\test_410.jpg', 'Home fire dataset/test\\\\images\\\\test_411.jpg', 'Home fire dataset/test\\\\images\\\\test_412.jpg', 'Home fire dataset/test\\\\images\\\\test_413.jpg', 'Home fire dataset/test\\\\images\\\\test_414.jpg', 'Home fire dataset/test\\\\images\\\\test_415.jpg', 'Home fire dataset/test\\\\images\\\\test_416.jpg', 'Home fire dataset/test\\\\images\\\\test_417.jpg', 'Home fire dataset/test\\\\images\\\\test_418.jpg', 'Home fire dataset/test\\\\images\\\\test_419.jpg', 'Home fire dataset/test\\\\images\\\\test_42.jpg', 'Home fire dataset/test\\\\images\\\\test_420.jpg', 'Home fire dataset/test\\\\images\\\\test_421.jpg', 'Home fire dataset/test\\\\images\\\\test_422.jpg', 'Home fire dataset/test\\\\images\\\\test_423.jpg', 'Home fire dataset/test\\\\images\\\\test_424.jpg', 'Home fire dataset/test\\\\images\\\\test_425.jpg', 'Home fire dataset/test\\\\images\\\\test_426.jpg', 'Home fire dataset/test\\\\images\\\\test_427.jpg', 'Home fire dataset/test\\\\images\\\\test_428.jpg', 'Home fire dataset/test\\\\images\\\\test_429.jpg', 'Home fire dataset/test\\\\images\\\\test_43.jpg', 'Home fire dataset/test\\\\images\\\\test_430.jpg', 'Home fire dataset/test\\\\images\\\\test_431.jpg', 'Home fire dataset/test\\\\images\\\\test_432.jpg', 'Home fire dataset/test\\\\images\\\\test_433.jpg', 'Home fire dataset/test\\\\images\\\\test_434.jpg', 'Home fire dataset/test\\\\images\\\\test_435.jpg', 'Home fire dataset/test\\\\images\\\\test_436.jpg', 'Home fire dataset/test\\\\images\\\\test_437.jpg', 'Home fire dataset/test\\\\images\\\\test_438.jpg', 'Home fire dataset/test\\\\images\\\\test_439.jpg', 'Home fire dataset/test\\\\images\\\\test_44.jpg', 'Home fire dataset/test\\\\images\\\\test_440.jpg', 'Home fire dataset/test\\\\images\\\\test_441.jpg', 'Home fire dataset/test\\\\images\\\\test_442.jpg', 'Home fire dataset/test\\\\images\\\\test_443.jpg', 'Home fire dataset/test\\\\images\\\\test_444.jpg', 'Home fire dataset/test\\\\images\\\\test_445.jpg', 'Home fire dataset/test\\\\images\\\\test_446.jpg', 'Home fire dataset/test\\\\images\\\\test_447.jpg', 'Home fire dataset/test\\\\images\\\\test_448.jpg', 'Home fire dataset/test\\\\images\\\\test_449.jpg', 'Home fire dataset/test\\\\images\\\\test_45.jpg', 'Home fire dataset/test\\\\images\\\\test_450.jpg', 'Home fire dataset/test\\\\images\\\\test_451.jpg', 'Home fire dataset/test\\\\images\\\\test_452.jpg', 'Home fire dataset/test\\\\images\\\\test_453.jpg', 'Home fire dataset/test\\\\images\\\\test_454.jpg', 'Home fire dataset/test\\\\images\\\\test_455.jpg', 'Home fire dataset/test\\\\images\\\\test_456.jpg', 'Home fire dataset/test\\\\images\\\\test_457.jpg', 'Home fire dataset/test\\\\images\\\\test_458.jpg', 'Home fire dataset/test\\\\images\\\\test_459.jpg', 'Home fire dataset/test\\\\images\\\\test_46.jpg', 'Home fire dataset/test\\\\images\\\\test_460.jpg', 'Home fire dataset/test\\\\images\\\\test_461.jpg', 'Home fire dataset/test\\\\images\\\\test_462.jpg', 'Home fire dataset/test\\\\images\\\\test_463.jpg', 'Home fire dataset/test\\\\images\\\\test_464.jpg', 'Home fire dataset/test\\\\images\\\\test_465.jpg', 'Home fire dataset/test\\\\images\\\\test_466.jpg', 'Home fire dataset/test\\\\images\\\\test_467.jpg', 'Home fire dataset/test\\\\images\\\\test_468.jpg', 'Home fire dataset/test\\\\images\\\\test_469.jpg', 'Home fire dataset/test\\\\images\\\\test_47.jpg', 'Home fire dataset/test\\\\images\\\\test_470.jpg', 'Home fire dataset/test\\\\images\\\\test_471.jpg', 'Home fire dataset/test\\\\images\\\\test_472.jpg', 'Home fire dataset/test\\\\images\\\\test_473.jpg', 'Home fire dataset/test\\\\images\\\\test_474.jpg', 'Home fire dataset/test\\\\images\\\\test_475.jpg', 'Home fire dataset/test\\\\images\\\\test_476.jpg', 'Home fire dataset/test\\\\images\\\\test_477.jpg', 'Home fire dataset/test\\\\images\\\\test_478.jpg', 'Home fire dataset/test\\\\images\\\\test_479.jpg', 'Home fire dataset/test\\\\images\\\\test_48.jpg', 'Home fire dataset/test\\\\images\\\\test_480.jpg', 'Home fire dataset/test\\\\images\\\\test_481.jpg', 'Home fire dataset/test\\\\images\\\\test_482.jpg', 'Home fire dataset/test\\\\images\\\\test_483.jpg', 'Home fire dataset/test\\\\images\\\\test_484.jpg', 'Home fire dataset/test\\\\images\\\\test_485.jpg', 'Home fire dataset/test\\\\images\\\\test_486.jpg', 'Home fire dataset/test\\\\images\\\\test_487.jpg', 'Home fire dataset/test\\\\images\\\\test_488.jpg', 'Home fire dataset/test\\\\images\\\\test_489.jpg', 'Home fire dataset/test\\\\images\\\\test_49.jpg', 'Home fire dataset/test\\\\images\\\\test_490.jpg', 'Home fire dataset/test\\\\images\\\\test_491.jpg', 'Home fire dataset/test\\\\images\\\\test_492.jpg', 'Home fire dataset/test\\\\images\\\\test_493.jpg', 'Home fire dataset/test\\\\images\\\\test_494.jpg', 'Home fire dataset/test\\\\images\\\\test_495.jpg', 'Home fire dataset/test\\\\images\\\\test_496.jpg', 'Home fire dataset/test\\\\images\\\\test_497.jpg', 'Home fire dataset/test\\\\images\\\\test_498.jpg', 'Home fire dataset/test\\\\images\\\\test_499.jpg', 'Home fire dataset/test\\\\images\\\\test_5.jpg', 'Home fire dataset/test\\\\images\\\\test_50.jpg', 'Home fire dataset/test\\\\images\\\\test_500.jpg', 'Home fire dataset/test\\\\images\\\\test_501.jpg', 'Home fire dataset/test\\\\images\\\\test_502.jpg', 'Home fire dataset/test\\\\images\\\\test_503.jpg', 'Home fire dataset/test\\\\images\\\\test_504.jpg', 'Home fire dataset/test\\\\images\\\\test_505.jpg', 'Home fire dataset/test\\\\images\\\\test_506.jpg', 'Home fire dataset/test\\\\images\\\\test_507.jpg', 'Home fire dataset/test\\\\images\\\\test_508.jpg', 'Home fire dataset/test\\\\images\\\\test_509.jpg', 'Home fire dataset/test\\\\images\\\\test_51.jpg', 'Home fire dataset/test\\\\images\\\\test_510.jpg', 'Home fire dataset/test\\\\images\\\\test_511.jpg', 'Home fire dataset/test\\\\images\\\\test_512.jpg', 'Home fire dataset/test\\\\images\\\\test_513.jpg', 'Home fire dataset/test\\\\images\\\\test_514.jpg', 'Home fire dataset/test\\\\images\\\\test_515.jpg', 'Home fire dataset/test\\\\images\\\\test_516.jpg', 'Home fire dataset/test\\\\images\\\\test_517.jpg', 'Home fire dataset/test\\\\images\\\\test_518.jpg', 'Home fire dataset/test\\\\images\\\\test_519.jpg', 'Home fire dataset/test\\\\images\\\\test_52.jpg', 'Home fire dataset/test\\\\images\\\\test_520.jpg', 'Home fire dataset/test\\\\images\\\\test_521.jpg', 'Home fire dataset/test\\\\images\\\\test_522.jpg', 'Home fire dataset/test\\\\images\\\\test_523.jpg', 'Home fire dataset/test\\\\images\\\\test_524.jpg', 'Home fire dataset/test\\\\images\\\\test_525.jpg', 'Home fire dataset/test\\\\images\\\\test_526.jpg', 'Home fire dataset/test\\\\images\\\\test_527.jpg', 'Home fire dataset/test\\\\images\\\\test_528.jpg', 'Home fire dataset/test\\\\images\\\\test_529.jpg', 'Home fire dataset/test\\\\images\\\\test_53.jpg', 'Home fire dataset/test\\\\images\\\\test_530.jpg', 'Home fire dataset/test\\\\images\\\\test_531.jpg', 'Home fire dataset/test\\\\images\\\\test_532.jpg', 'Home fire dataset/test\\\\images\\\\test_533.jpg', 'Home fire dataset/test\\\\images\\\\test_534.jpg', 'Home fire dataset/test\\\\images\\\\test_535.jpg', 'Home fire dataset/test\\\\images\\\\test_536.jpg', 'Home fire dataset/test\\\\images\\\\test_537.jpg', 'Home fire dataset/test\\\\images\\\\test_538.jpg', 'Home fire dataset/test\\\\images\\\\test_539.jpg', 'Home fire dataset/test\\\\images\\\\test_54.jpg', 'Home fire dataset/test\\\\images\\\\test_540.jpg', 'Home fire dataset/test\\\\images\\\\test_541.jpg', 'Home fire dataset/test\\\\images\\\\test_542.jpg', 'Home fire dataset/test\\\\images\\\\test_543.jpg', 'Home fire dataset/test\\\\images\\\\test_544.jpg', 'Home fire dataset/test\\\\images\\\\test_545.jpg', 'Home fire dataset/test\\\\images\\\\test_546.jpg', 'Home fire dataset/test\\\\images\\\\test_547.jpg', 'Home fire dataset/test\\\\images\\\\test_548.jpg', 'Home fire dataset/test\\\\images\\\\test_549.jpg', 'Home fire dataset/test\\\\images\\\\test_55.jpg', 'Home fire dataset/test\\\\images\\\\test_550.jpg', 'Home fire dataset/test\\\\images\\\\test_551.jpg', 'Home fire dataset/test\\\\images\\\\test_552.jpg', 'Home fire dataset/test\\\\images\\\\test_553.jpg', 'Home fire dataset/test\\\\images\\\\test_554.jpg', 'Home fire dataset/test\\\\images\\\\test_555.jpg', 'Home fire dataset/test\\\\images\\\\test_556.jpg', 'Home fire dataset/test\\\\images\\\\test_557.jpg', 'Home fire dataset/test\\\\images\\\\test_558.jpg', 'Home fire dataset/test\\\\images\\\\test_559.jpg', 'Home fire dataset/test\\\\images\\\\test_56.jpg', 'Home fire dataset/test\\\\images\\\\test_560.jpg', 'Home fire dataset/test\\\\images\\\\test_561.jpg', 'Home fire dataset/test\\\\images\\\\test_562.jpg', 'Home fire dataset/test\\\\images\\\\test_563.jpg', 'Home fire dataset/test\\\\images\\\\test_564.jpg', 'Home fire dataset/test\\\\images\\\\test_565.jpg', 'Home fire dataset/test\\\\images\\\\test_566.jpg', 'Home fire dataset/test\\\\images\\\\test_567.jpg', 'Home fire dataset/test\\\\images\\\\test_568.jpg', 'Home fire dataset/test\\\\images\\\\test_569.jpg', 'Home fire dataset/test\\\\images\\\\test_57.jpg', 'Home fire dataset/test\\\\images\\\\test_570.jpg', 'Home fire dataset/test\\\\images\\\\test_571.jpg', 'Home fire dataset/test\\\\images\\\\test_572.jpg', 'Home fire dataset/test\\\\images\\\\test_573.jpg', 'Home fire dataset/test\\\\images\\\\test_574.jpg', 'Home fire dataset/test\\\\images\\\\test_575.jpg', 'Home fire dataset/test\\\\images\\\\test_576.jpg', 'Home fire dataset/test\\\\images\\\\test_577.jpg', 'Home fire dataset/test\\\\images\\\\test_578.jpg', 'Home fire dataset/test\\\\images\\\\test_579.jpg', 'Home fire dataset/test\\\\images\\\\test_58.jpg', 'Home fire dataset/test\\\\images\\\\test_580.jpg', 'Home fire dataset/test\\\\images\\\\test_581.jpg', 'Home fire dataset/test\\\\images\\\\test_582.jpg', 'Home fire dataset/test\\\\images\\\\test_583.jpg', 'Home fire dataset/test\\\\images\\\\test_584.jpg', 'Home fire dataset/test\\\\images\\\\test_585.jpg', 'Home fire dataset/test\\\\images\\\\test_586.jpg', 'Home fire dataset/test\\\\images\\\\test_587.jpg', 'Home fire dataset/test\\\\images\\\\test_588.jpg', 'Home fire dataset/test\\\\images\\\\test_589.jpg', 'Home fire dataset/test\\\\images\\\\test_59.jpg', 'Home fire dataset/test\\\\images\\\\test_590.jpg', 'Home fire dataset/test\\\\images\\\\test_591.jpg', 'Home fire dataset/test\\\\images\\\\test_592.jpg', 'Home fire dataset/test\\\\images\\\\test_593.jpg', 'Home fire dataset/test\\\\images\\\\test_594.jpg', 'Home fire dataset/test\\\\images\\\\test_595.jpg', 'Home fire dataset/test\\\\images\\\\test_596.jpg', 'Home fire dataset/test\\\\images\\\\test_597.jpg', 'Home fire dataset/test\\\\images\\\\test_598.jpg', 'Home fire dataset/test\\\\images\\\\test_599.jpg', 'Home fire dataset/test\\\\images\\\\test_6.jpg', 'Home fire dataset/test\\\\images\\\\test_60.jpg', 'Home fire dataset/test\\\\images\\\\test_600.jpg', 'Home fire dataset/test\\\\images\\\\test_601.jpg', 'Home fire dataset/test\\\\images\\\\test_602.jpg', 'Home fire dataset/test\\\\images\\\\test_603.jpg', 'Home fire dataset/test\\\\images\\\\test_604.jpg', 'Home fire dataset/test\\\\images\\\\test_605.jpg', 'Home fire dataset/test\\\\images\\\\test_606.jpg', 'Home fire dataset/test\\\\images\\\\test_607.jpg', 'Home fire dataset/test\\\\images\\\\test_608.jpg', 'Home fire dataset/test\\\\images\\\\test_609.jpg', 'Home fire dataset/test\\\\images\\\\test_61.jpg', 'Home fire dataset/test\\\\images\\\\test_610.jpg', 'Home fire dataset/test\\\\images\\\\test_611.jpg', 'Home fire dataset/test\\\\images\\\\test_612.jpg', 'Home fire dataset/test\\\\images\\\\test_613.jpg', 'Home fire dataset/test\\\\images\\\\test_614.jpg', 'Home fire dataset/test\\\\images\\\\test_615.jpg', 'Home fire dataset/test\\\\images\\\\test_616.jpg', 'Home fire dataset/test\\\\images\\\\test_617.jpg', 'Home fire dataset/test\\\\images\\\\test_618.jpg', 'Home fire dataset/test\\\\images\\\\test_619.jpg', 'Home fire dataset/test\\\\images\\\\test_62.jpg', 'Home fire dataset/test\\\\images\\\\test_620.jpg', 'Home fire dataset/test\\\\images\\\\test_621.jpg', 'Home fire dataset/test\\\\images\\\\test_622.jpg', 'Home fire dataset/test\\\\images\\\\test_623.jpg', 'Home fire dataset/test\\\\images\\\\test_624.jpg', 'Home fire dataset/test\\\\images\\\\test_625.jpg', 'Home fire dataset/test\\\\images\\\\test_626.jpg', 'Home fire dataset/test\\\\images\\\\test_627.jpg', 'Home fire dataset/test\\\\images\\\\test_628.jpg', 'Home fire dataset/test\\\\images\\\\test_629.jpg', 'Home fire dataset/test\\\\images\\\\test_63.jpg', 'Home fire dataset/test\\\\images\\\\test_630.jpg', 'Home fire dataset/test\\\\images\\\\test_631.jpg', 'Home fire dataset/test\\\\images\\\\test_632.jpg', 'Home fire dataset/test\\\\images\\\\test_633.jpg', 'Home fire dataset/test\\\\images\\\\test_634.jpg', 'Home fire dataset/test\\\\images\\\\test_635.jpg', 'Home fire dataset/test\\\\images\\\\test_636.jpg', 'Home fire dataset/test\\\\images\\\\test_637.jpg', 'Home fire dataset/test\\\\images\\\\test_638.jpg', 'Home fire dataset/test\\\\images\\\\test_639.jpg', 'Home fire dataset/test\\\\images\\\\test_64.jpg', 'Home fire dataset/test\\\\images\\\\test_640.jpg', 'Home fire dataset/test\\\\images\\\\test_641.jpg', 'Home fire dataset/test\\\\images\\\\test_642.jpg', 'Home fire dataset/test\\\\images\\\\test_643.jpg', 'Home fire dataset/test\\\\images\\\\test_644.jpg', 'Home fire dataset/test\\\\images\\\\test_645.jpg', 'Home fire dataset/test\\\\images\\\\test_646.jpg', 'Home fire dataset/test\\\\images\\\\test_647.jpg', 'Home fire dataset/test\\\\images\\\\test_648.jpg', 'Home fire dataset/test\\\\images\\\\test_649.jpg', 'Home fire dataset/test\\\\images\\\\test_65.jpg', 'Home fire dataset/test\\\\images\\\\test_650.jpg', 'Home fire dataset/test\\\\images\\\\test_651.jpg', 'Home fire dataset/test\\\\images\\\\test_652.jpg', 'Home fire dataset/test\\\\images\\\\test_653.jpg', 'Home fire dataset/test\\\\images\\\\test_654.jpg', 'Home fire dataset/test\\\\images\\\\test_655.jpg', 'Home fire dataset/test\\\\images\\\\test_656.jpg', 'Home fire dataset/test\\\\images\\\\test_657.jpg', 'Home fire dataset/test\\\\images\\\\test_658.jpg', 'Home fire dataset/test\\\\images\\\\test_659.jpg', 'Home fire dataset/test\\\\images\\\\test_66.jpg', 'Home fire dataset/test\\\\images\\\\test_660.jpg', 'Home fire dataset/test\\\\images\\\\test_661.jpg', 'Home fire dataset/test\\\\images\\\\test_662.jpg', 'Home fire dataset/test\\\\images\\\\test_663.jpg', 'Home fire dataset/test\\\\images\\\\test_664.jpg', 'Home fire dataset/test\\\\images\\\\test_665.jpg', 'Home fire dataset/test\\\\images\\\\test_666.jpg', 'Home fire dataset/test\\\\images\\\\test_667.jpg', 'Home fire dataset/test\\\\images\\\\test_668.jpg', 'Home fire dataset/test\\\\images\\\\test_669.jpg', 'Home fire dataset/test\\\\images\\\\test_67.jpg', 'Home fire dataset/test\\\\images\\\\test_670.jpg', 'Home fire dataset/test\\\\images\\\\test_671.jpg', 'Home fire dataset/test\\\\images\\\\test_672.jpg', 'Home fire dataset/test\\\\images\\\\test_673.jpg', 'Home fire dataset/test\\\\images\\\\test_674.jpg', 'Home fire dataset/test\\\\images\\\\test_675.jpg', 'Home fire dataset/test\\\\images\\\\test_676.jpg', 'Home fire dataset/test\\\\images\\\\test_677.jpg', 'Home fire dataset/test\\\\images\\\\test_678.jpg', 'Home fire dataset/test\\\\images\\\\test_679.jpg', 'Home fire dataset/test\\\\images\\\\test_68.jpg', 'Home fire dataset/test\\\\images\\\\test_680.jpg', 'Home fire dataset/test\\\\images\\\\test_681.jpg', 'Home fire dataset/test\\\\images\\\\test_682.jpg', 'Home fire dataset/test\\\\images\\\\test_683.jpg', 'Home fire dataset/test\\\\images\\\\test_684.jpg', 'Home fire dataset/test\\\\images\\\\test_685.jpg', 'Home fire dataset/test\\\\images\\\\test_686.jpg', 'Home fire dataset/test\\\\images\\\\test_687.jpg', 'Home fire dataset/test\\\\images\\\\test_688.jpg', 'Home fire dataset/test\\\\images\\\\test_689.jpg', 'Home fire dataset/test\\\\images\\\\test_69.jpg', 'Home fire dataset/test\\\\images\\\\test_690.jpg', 'Home fire dataset/test\\\\images\\\\test_691.jpg', 'Home fire dataset/test\\\\images\\\\test_692.jpg', 'Home fire dataset/test\\\\images\\\\test_693.jpg', 'Home fire dataset/test\\\\images\\\\test_694.jpg', 'Home fire dataset/test\\\\images\\\\test_695.jpg', 'Home fire dataset/test\\\\images\\\\test_696.jpg', 'Home fire dataset/test\\\\images\\\\test_697.jpg', 'Home fire dataset/test\\\\images\\\\test_698.jpg', 'Home fire dataset/test\\\\images\\\\test_699.jpg', 'Home fire dataset/test\\\\images\\\\test_7.jpg', 'Home fire dataset/test\\\\images\\\\test_70.jpg', 'Home fire dataset/test\\\\images\\\\test_700.jpg', 'Home fire dataset/test\\\\images\\\\test_701.jpg', 'Home fire dataset/test\\\\images\\\\test_702.jpg', 'Home fire dataset/test\\\\images\\\\test_703.jpg', 'Home fire dataset/test\\\\images\\\\test_704.jpg', 'Home fire dataset/test\\\\images\\\\test_705.jpg', 'Home fire dataset/test\\\\images\\\\test_706.jpg', 'Home fire dataset/test\\\\images\\\\test_707.jpg', 'Home fire dataset/test\\\\images\\\\test_708.jpg', 'Home fire dataset/test\\\\images\\\\test_709.jpg', 'Home fire dataset/test\\\\images\\\\test_71.jpg', 'Home fire dataset/test\\\\images\\\\test_710.jpg', 'Home fire dataset/test\\\\images\\\\test_711.jpg', 'Home fire dataset/test\\\\images\\\\test_712.jpg', 'Home fire dataset/test\\\\images\\\\test_713.jpg', 'Home fire dataset/test\\\\images\\\\test_714.jpg', 'Home fire dataset/test\\\\images\\\\test_715.jpg', 'Home fire dataset/test\\\\images\\\\test_716.jpg', 'Home fire dataset/test\\\\images\\\\test_717.jpg', 'Home fire dataset/test\\\\images\\\\test_718.jpg', 'Home fire dataset/test\\\\images\\\\test_719.jpg', 'Home fire dataset/test\\\\images\\\\test_72.jpg', 'Home fire dataset/test\\\\images\\\\test_720.jpg', 'Home fire dataset/test\\\\images\\\\test_721.jpg', 'Home fire dataset/test\\\\images\\\\test_722.jpg', 'Home fire dataset/test\\\\images\\\\test_723.jpg', 'Home fire dataset/test\\\\images\\\\test_724.jpg', 'Home fire dataset/test\\\\images\\\\test_725.jpg', 'Home fire dataset/test\\\\images\\\\test_726.jpg', 'Home fire dataset/test\\\\images\\\\test_727.jpg', 'Home fire dataset/test\\\\images\\\\test_728.jpg', 'Home fire dataset/test\\\\images\\\\test_729.jpg', 'Home fire dataset/test\\\\images\\\\test_73.jpg', 'Home fire dataset/test\\\\images\\\\test_730.jpg', 'Home fire dataset/test\\\\images\\\\test_731.jpg', 'Home fire dataset/test\\\\images\\\\test_732.jpg', 'Home fire dataset/test\\\\images\\\\test_733.jpg', 'Home fire dataset/test\\\\images\\\\test_734.jpg', 'Home fire dataset/test\\\\images\\\\test_735.jpg', 'Home fire dataset/test\\\\images\\\\test_736.jpg', 'Home fire dataset/test\\\\images\\\\test_737.jpg', 'Home fire dataset/test\\\\images\\\\test_738.jpg', 'Home fire dataset/test\\\\images\\\\test_739.jpg', 'Home fire dataset/test\\\\images\\\\test_74.jpg', 'Home fire dataset/test\\\\images\\\\test_740.jpg', 'Home fire dataset/test\\\\images\\\\test_741.jpg', 'Home fire dataset/test\\\\images\\\\test_742.jpg', 'Home fire dataset/test\\\\images\\\\test_743.jpg', 'Home fire dataset/test\\\\images\\\\test_744.jpg', 'Home fire dataset/test\\\\images\\\\test_745.jpg', 'Home fire dataset/test\\\\images\\\\test_746.jpg', 'Home fire dataset/test\\\\images\\\\test_747.jpg', 'Home fire dataset/test\\\\images\\\\test_748.jpg', 'Home fire dataset/test\\\\images\\\\test_749.jpg', 'Home fire dataset/test\\\\images\\\\test_75.jpg', 'Home fire dataset/test\\\\images\\\\test_750.jpg', 'Home fire dataset/test\\\\images\\\\test_751.jpg', 'Home fire dataset/test\\\\images\\\\test_752.jpg', 'Home fire dataset/test\\\\images\\\\test_753.jpg', 'Home fire dataset/test\\\\images\\\\test_754.jpg', 'Home fire dataset/test\\\\images\\\\test_755.jpg', 'Home fire dataset/test\\\\images\\\\test_756.jpg', 'Home fire dataset/test\\\\images\\\\test_757.jpg', 'Home fire dataset/test\\\\images\\\\test_758.jpg', 'Home fire dataset/test\\\\images\\\\test_759.jpg', 'Home fire dataset/test\\\\images\\\\test_76.jpg', 'Home fire dataset/test\\\\images\\\\test_760.jpg', 'Home fire dataset/test\\\\images\\\\test_761.jpg', 'Home fire dataset/test\\\\images\\\\test_762.jpg', 'Home fire dataset/test\\\\images\\\\test_763.jpg', 'Home fire dataset/test\\\\images\\\\test_764.jpg', 'Home fire dataset/test\\\\images\\\\test_765.jpg', 'Home fire dataset/test\\\\images\\\\test_766.jpg', 'Home fire dataset/test\\\\images\\\\test_767.jpg', 'Home fire dataset/test\\\\images\\\\test_768.jpg', 'Home fire dataset/test\\\\images\\\\test_769.jpg', 'Home fire dataset/test\\\\images\\\\test_77.jpg', 'Home fire dataset/test\\\\images\\\\test_770.jpg', 'Home fire dataset/test\\\\images\\\\test_771.jpg', 'Home fire dataset/test\\\\images\\\\test_772.jpg', 'Home fire dataset/test\\\\images\\\\test_773.jpg', 'Home fire dataset/test\\\\images\\\\test_774.jpg', 'Home fire dataset/test\\\\images\\\\test_775.jpg', 'Home fire dataset/test\\\\images\\\\test_776.jpg', 'Home fire dataset/test\\\\images\\\\test_777.jpg', 'Home fire dataset/test\\\\images\\\\test_778.jpg', 'Home fire dataset/test\\\\images\\\\test_779.jpg', 'Home fire dataset/test\\\\images\\\\test_78.jpg', 'Home fire dataset/test\\\\images\\\\test_780.jpg', 'Home fire dataset/test\\\\images\\\\test_781.jpg', 'Home fire dataset/test\\\\images\\\\test_782.jpg', 'Home fire dataset/test\\\\images\\\\test_783.jpg', 'Home fire dataset/test\\\\images\\\\test_784.jpg', 'Home fire dataset/test\\\\images\\\\test_785.jpg', 'Home fire dataset/test\\\\images\\\\test_786.jpg', 'Home fire dataset/test\\\\images\\\\test_787.jpg', 'Home fire dataset/test\\\\images\\\\test_788.jpg', 'Home fire dataset/test\\\\images\\\\test_789.jpg', 'Home fire dataset/test\\\\images\\\\test_79.jpg', 'Home fire dataset/test\\\\images\\\\test_790.jpg', 'Home fire dataset/test\\\\images\\\\test_791.jpg', 'Home fire dataset/test\\\\images\\\\test_792.jpg', 'Home fire dataset/test\\\\images\\\\test_793.jpg', 'Home fire dataset/test\\\\images\\\\test_794.jpg', 'Home fire dataset/test\\\\images\\\\test_795.jpg', 'Home fire dataset/test\\\\images\\\\test_796.jpg', 'Home fire dataset/test\\\\images\\\\test_797.jpg', 'Home fire dataset/test\\\\images\\\\test_798.jpg', 'Home fire dataset/test\\\\images\\\\test_799.jpg', 'Home fire dataset/test\\\\images\\\\test_8.jpg', 'Home fire dataset/test\\\\images\\\\test_80.jpg', 'Home fire dataset/test\\\\images\\\\test_800.jpg', 'Home fire dataset/test\\\\images\\\\test_801.jpg', 'Home fire dataset/test\\\\images\\\\test_802.jpg', 'Home fire dataset/test\\\\images\\\\test_803.jpg', 'Home fire dataset/test\\\\images\\\\test_804.jpg', 'Home fire dataset/test\\\\images\\\\test_805.jpg', 'Home fire dataset/test\\\\images\\\\test_806.jpg', 'Home fire dataset/test\\\\images\\\\test_807.jpg', 'Home fire dataset/test\\\\images\\\\test_808.jpg', 'Home fire dataset/test\\\\images\\\\test_809.jpg', 'Home fire dataset/test\\\\images\\\\test_81.jpg', 'Home fire dataset/test\\\\images\\\\test_810.jpg', 'Home fire dataset/test\\\\images\\\\test_811.jpg', 'Home fire dataset/test\\\\images\\\\test_812.jpg', 'Home fire dataset/test\\\\images\\\\test_813.jpg', 'Home fire dataset/test\\\\images\\\\test_814.jpg', 'Home fire dataset/test\\\\images\\\\test_815.jpg', 'Home fire dataset/test\\\\images\\\\test_816.jpg', 'Home fire dataset/test\\\\images\\\\test_817.jpg', 'Home fire dataset/test\\\\images\\\\test_818.jpg', 'Home fire dataset/test\\\\images\\\\test_819.jpg', 'Home fire dataset/test\\\\images\\\\test_82.jpg', 'Home fire dataset/test\\\\images\\\\test_820.jpg', 'Home fire dataset/test\\\\images\\\\test_821.jpg', 'Home fire dataset/test\\\\images\\\\test_822.jpg', 'Home fire dataset/test\\\\images\\\\test_823.jpg', 'Home fire dataset/test\\\\images\\\\test_824.jpg', 'Home fire dataset/test\\\\images\\\\test_825.jpg', 'Home fire dataset/test\\\\images\\\\test_826.jpg', 'Home fire dataset/test\\\\images\\\\test_827.jpg', 'Home fire dataset/test\\\\images\\\\test_828.jpg', 'Home fire dataset/test\\\\images\\\\test_829.jpg', 'Home fire dataset/test\\\\images\\\\test_83.jpg', 'Home fire dataset/test\\\\images\\\\test_830.jpg', 'Home fire dataset/test\\\\images\\\\test_831.jpg', 'Home fire dataset/test\\\\images\\\\test_832.jpg', 'Home fire dataset/test\\\\images\\\\test_833.jpg', 'Home fire dataset/test\\\\images\\\\test_834.jpg', 'Home fire dataset/test\\\\images\\\\test_835.jpg', 'Home fire dataset/test\\\\images\\\\test_836.jpg', 'Home fire dataset/test\\\\images\\\\test_837.jpg', 'Home fire dataset/test\\\\images\\\\test_838.jpg', 'Home fire dataset/test\\\\images\\\\test_839.jpg', 'Home fire dataset/test\\\\images\\\\test_84.jpg', 'Home fire dataset/test\\\\images\\\\test_840.jpg', 'Home fire dataset/test\\\\images\\\\test_841.jpg', 'Home fire dataset/test\\\\images\\\\test_842.jpg', 'Home fire dataset/test\\\\images\\\\test_843.jpg', 'Home fire dataset/test\\\\images\\\\test_844.jpg', 'Home fire dataset/test\\\\images\\\\test_845.jpg', 'Home fire dataset/test\\\\images\\\\test_846.jpg', 'Home fire dataset/test\\\\images\\\\test_847.jpg', 'Home fire dataset/test\\\\images\\\\test_848.jpg', 'Home fire dataset/test\\\\images\\\\test_849.jpg', 'Home fire dataset/test\\\\images\\\\test_85.jpg', 'Home fire dataset/test\\\\images\\\\test_850.jpg', 'Home fire dataset/test\\\\images\\\\test_851.jpg', 'Home fire dataset/test\\\\images\\\\test_852.jpg', 'Home fire dataset/test\\\\images\\\\test_853.jpg', 'Home fire dataset/test\\\\images\\\\test_854.jpg', 'Home fire dataset/test\\\\images\\\\test_855.jpg', 'Home fire dataset/test\\\\images\\\\test_856.jpg', 'Home fire dataset/test\\\\images\\\\test_857.jpg', 'Home fire dataset/test\\\\images\\\\test_858.jpg', 'Home fire dataset/test\\\\images\\\\test_859.jpg', 'Home fire dataset/test\\\\images\\\\test_86.jpg', 'Home fire dataset/test\\\\images\\\\test_860.jpg', 'Home fire dataset/test\\\\images\\\\test_861.jpg', 'Home fire dataset/test\\\\images\\\\test_862.jpg', 'Home fire dataset/test\\\\images\\\\test_863.jpg', 'Home fire dataset/test\\\\images\\\\test_864.jpg', 'Home fire dataset/test\\\\images\\\\test_865.jpg', 'Home fire dataset/test\\\\images\\\\test_866.jpg', 'Home fire dataset/test\\\\images\\\\test_867.jpg', 'Home fire dataset/test\\\\images\\\\test_868.jpg', 'Home fire dataset/test\\\\images\\\\test_869.jpg', 'Home fire dataset/test\\\\images\\\\test_87.jpg', 'Home fire dataset/test\\\\images\\\\test_870.jpg', 'Home fire dataset/test\\\\images\\\\test_871.jpg', 'Home fire dataset/test\\\\images\\\\test_872.jpg', 'Home fire dataset/test\\\\images\\\\test_873.jpg', 'Home fire dataset/test\\\\images\\\\test_874.jpg', 'Home fire dataset/test\\\\images\\\\test_875.jpg', 'Home fire dataset/test\\\\images\\\\test_876.jpg', 'Home fire dataset/test\\\\images\\\\test_877.jpg', 'Home fire dataset/test\\\\images\\\\test_878.jpg', 'Home fire dataset/test\\\\images\\\\test_879.jpg', 'Home fire dataset/test\\\\images\\\\test_88.jpg', 'Home fire dataset/test\\\\images\\\\test_880.jpg', 'Home fire dataset/test\\\\images\\\\test_881.jpg', 'Home fire dataset/test\\\\images\\\\test_882.jpg', 'Home fire dataset/test\\\\images\\\\test_883.jpg', 'Home fire dataset/test\\\\images\\\\test_884.jpg', 'Home fire dataset/test\\\\images\\\\test_885.jpg', 'Home fire dataset/test\\\\images\\\\test_886.jpg', 'Home fire dataset/test\\\\images\\\\test_887.jpg', 'Home fire dataset/test\\\\images\\\\test_888.jpg', 'Home fire dataset/test\\\\images\\\\test_889.jpg', 'Home fire dataset/test\\\\images\\\\test_89.jpg', 'Home fire dataset/test\\\\images\\\\test_890.jpg', 'Home fire dataset/test\\\\images\\\\test_891.jpg', 'Home fire dataset/test\\\\images\\\\test_892.jpg', 'Home fire dataset/test\\\\images\\\\test_893.jpg', 'Home fire dataset/test\\\\images\\\\test_894.jpg', 'Home fire dataset/test\\\\images\\\\test_895.jpg', 'Home fire dataset/test\\\\images\\\\test_896.jpg', 'Home fire dataset/test\\\\images\\\\test_897.jpg', 'Home fire dataset/test\\\\images\\\\test_898.jpg', 'Home fire dataset/test\\\\images\\\\test_899.jpg', 'Home fire dataset/test\\\\images\\\\test_9.jpg', 'Home fire dataset/test\\\\images\\\\test_90.jpg', 'Home fire dataset/test\\\\images\\\\test_900.jpg', 'Home fire dataset/test\\\\images\\\\test_901.jpg', 'Home fire dataset/test\\\\images\\\\test_902.jpg', 'Home fire dataset/test\\\\images\\\\test_903.jpg', 'Home fire dataset/test\\\\images\\\\test_904.jpg', 'Home fire dataset/test\\\\images\\\\test_905.jpg', 'Home fire dataset/test\\\\images\\\\test_906.jpg', 'Home fire dataset/test\\\\images\\\\test_907.jpg', 'Home fire dataset/test\\\\images\\\\test_908.jpg', 'Home fire dataset/test\\\\images\\\\test_909.jpg', 'Home fire dataset/test\\\\images\\\\test_91.jpg', 'Home fire dataset/test\\\\images\\\\test_910.jpg', 'Home fire dataset/test\\\\images\\\\test_911.jpg', 'Home fire dataset/test\\\\images\\\\test_912.jpg', 'Home fire dataset/test\\\\images\\\\test_913.jpg', 'Home fire dataset/test\\\\images\\\\test_914.jpg', 'Home fire dataset/test\\\\images\\\\test_915.jpg', 'Home fire dataset/test\\\\images\\\\test_916.jpg', 'Home fire dataset/test\\\\images\\\\test_917.jpg', 'Home fire dataset/test\\\\images\\\\test_918.jpg', 'Home fire dataset/test\\\\images\\\\test_919.jpg', 'Home fire dataset/test\\\\images\\\\test_92.jpg', 'Home fire dataset/test\\\\images\\\\test_920.jpg', 'Home fire dataset/test\\\\images\\\\test_921.jpg', 'Home fire dataset/test\\\\images\\\\test_922.jpg', 'Home fire dataset/test\\\\images\\\\test_923.jpg', 'Home fire dataset/test\\\\images\\\\test_924.jpg', 'Home fire dataset/test\\\\images\\\\test_925.jpg', 'Home fire dataset/test\\\\images\\\\test_926.jpg', 'Home fire dataset/test\\\\images\\\\test_927.jpg', 'Home fire dataset/test\\\\images\\\\test_928.jpg', 'Home fire dataset/test\\\\images\\\\test_929.jpg', 'Home fire dataset/test\\\\images\\\\test_93.jpg', 'Home fire dataset/test\\\\images\\\\test_930.jpg', 'Home fire dataset/test\\\\images\\\\test_931.jpg', 'Home fire dataset/test\\\\images\\\\test_932.jpg', 'Home fire dataset/test\\\\images\\\\test_933.jpg', 'Home fire dataset/test\\\\images\\\\test_934.jpg', 'Home fire dataset/test\\\\images\\\\test_935.jpg', 'Home fire dataset/test\\\\images\\\\test_936.jpg', 'Home fire dataset/test\\\\images\\\\test_937.jpg', 'Home fire dataset/test\\\\images\\\\test_938.jpg', 'Home fire dataset/test\\\\images\\\\test_939.jpg', 'Home fire dataset/test\\\\images\\\\test_94.jpg', 'Home fire dataset/test\\\\images\\\\test_940.jpg', 'Home fire dataset/test\\\\images\\\\test_941.jpg', 'Home fire dataset/test\\\\images\\\\test_942.jpg', 'Home fire dataset/test\\\\images\\\\test_943.jpg', 'Home fire dataset/test\\\\images\\\\test_944.jpg', 'Home fire dataset/test\\\\images\\\\test_945.jpg', 'Home fire dataset/test\\\\images\\\\test_946.jpg', 'Home fire dataset/test\\\\images\\\\test_947.jpg', 'Home fire dataset/test\\\\images\\\\test_948.jpg', 'Home fire dataset/test\\\\images\\\\test_949.jpg', 'Home fire dataset/test\\\\images\\\\test_95.jpg', 'Home fire dataset/test\\\\images\\\\test_950.jpg', 'Home fire dataset/test\\\\images\\\\test_951.jpg', 'Home fire dataset/test\\\\images\\\\test_952.jpg', 'Home fire dataset/test\\\\images\\\\test_953.jpg', 'Home fire dataset/test\\\\images\\\\test_954.jpg', 'Home fire dataset/test\\\\images\\\\test_955.jpg', 'Home fire dataset/test\\\\images\\\\test_956.jpg', 'Home fire dataset/test\\\\images\\\\test_957.jpg', 'Home fire dataset/test\\\\images\\\\test_958.jpg', 'Home fire dataset/test\\\\images\\\\test_959.jpg', 'Home fire dataset/test\\\\images\\\\test_96.jpg', 'Home fire dataset/test\\\\images\\\\test_960.jpg', 'Home fire dataset/test\\\\images\\\\test_961.jpg', 'Home fire dataset/test\\\\images\\\\test_962.jpg', 'Home fire dataset/test\\\\images\\\\test_963.jpg', 'Home fire dataset/test\\\\images\\\\test_964.jpg', 'Home fire dataset/test\\\\images\\\\test_965.jpg', 'Home fire dataset/test\\\\images\\\\test_966.jpg', 'Home fire dataset/test\\\\images\\\\test_967.jpg', 'Home fire dataset/test\\\\images\\\\test_968.jpg', 'Home fire dataset/test\\\\images\\\\test_969.jpg', 'Home fire dataset/test\\\\images\\\\test_97.jpg', 'Home fire dataset/test\\\\images\\\\test_970.jpg', 'Home fire dataset/test\\\\images\\\\test_971.jpg', 'Home fire dataset/test\\\\images\\\\test_972.jpg', 'Home fire dataset/test\\\\images\\\\test_973.jpg', 'Home fire dataset/test\\\\images\\\\test_974.jpg', 'Home fire dataset/test\\\\images\\\\test_975.jpg', 'Home fire dataset/test\\\\images\\\\test_976.jpg', 'Home fire dataset/test\\\\images\\\\test_977.jpg', 'Home fire dataset/test\\\\images\\\\test_978.jpg', 'Home fire dataset/test\\\\images\\\\test_979.jpg', 'Home fire dataset/test\\\\images\\\\test_98.jpg', 'Home fire dataset/test\\\\images\\\\test_980.jpg', 'Home fire dataset/test\\\\images\\\\test_981.jpg', 'Home fire dataset/test\\\\images\\\\test_982.jpg', 'Home fire dataset/test\\\\images\\\\test_983.jpg', 'Home fire dataset/test\\\\images\\\\test_984.jpg', 'Home fire dataset/test\\\\images\\\\test_985.jpg', 'Home fire dataset/test\\\\images\\\\test_986.jpg', 'Home fire dataset/test\\\\images\\\\test_987.jpg', 'Home fire dataset/test\\\\images\\\\test_988.jpg', 'Home fire dataset/test\\\\images\\\\test_989.jpg', 'Home fire dataset/test\\\\images\\\\test_99.jpg', 'Home fire dataset/test\\\\images\\\\test_990.jpg', 'Home fire dataset/test\\\\images\\\\test_991.jpg', 'Home fire dataset/test\\\\images\\\\test_992.jpg', 'Home fire dataset/test\\\\images\\\\test_993.jpg', 'Home fire dataset/test\\\\images\\\\test_994.jpg', 'Home fire dataset/test\\\\images\\\\test_995.jpg', 'Home fire dataset/test\\\\images\\\\test_996.jpg', 'Home fire dataset/test\\\\images\\\\test_997.jpg', 'Home fire dataset/test\\\\images\\\\test_998.jpg', 'Home fire dataset/test\\\\images\\\\test_999.jpg']\n"
          ]
        }
      ]
    },
    {
      "cell_type": "markdown",
      "source": [
        "\n",
        "\n",
        "Set all the paths of the dataset of Fire and Smoke:\n",
        "\n"
      ],
      "metadata": {
        "id": "GpP4yE5-sitI"
      }
    },
    {
      "cell_type": "code",
      "source": [
        "import os\n",
        "\n",
        "dataset_root = \"Fire and Smoke BBox COCO Dataset/coco128\"\n",
        "annotations_json = os.path.join(dataset_root, \"annotations\", \"instances_val2017.json\")\n",
        "\n",
        "# Check if JSON exists\n",
        "if os.path.exists(annotations_json):\n",
        "    print(f\"✅ JSON found at: {annotations_json}\")\n",
        "else:\n",
        "    print(f\"❌ JSON NOT found! Current working dir: {os.getcwd()}\")\n",
        "    # List contents of dataset_root to see folder names\n",
        "    print(\"Contents of dataset_root:\", os.listdir(dataset_root))\n",
        "    # List contents of annotations folder\n",
        "    annotations_folder = os.path.join(dataset_root, \"annotations\")\n",
        "    if os.path.exists(annotations_folder):\n",
        "        print(\"Contents of annotations folder:\", os.listdir(annotations_folder))\n",
        "    else:\n",
        "        print(\"Annotations folder not found!\")\n",
        "\n",
        "dataset_root = \"Fire and Smoke BBox COCO Dataset/coco128\"\n",
        "for root, dirs, files in os.walk(dataset_root):\n",
        "    for file in files:\n",
        "        if file.endswith(\".json\"):\n",
        "            print(\"Found JSON:\", os.path.join(root, file))\n"
      ],
      "metadata": {
        "colab": {
          "base_uri": "https://localhost:8080/"
        },
        "id": "wrVyXbVushbR",
        "outputId": "148af53b-3517-4c43-96a1-a5515a4af97a"
      },
      "execution_count": 4,
      "outputs": [
        {
          "output_type": "stream",
          "name": "stdout",
          "text": [
            "❌ JSON NOT found! Current working dir: C:\\Users\\jeff5\\Downloads\n",
            "Contents of dataset_root: ['train2017']\n",
            "Annotations folder not found!\n"
          ]
        }
      ]
    },
    {
      "cell_type": "code",
      "source": [
        "dataset_root = \"Fire and Smoke BBox COCO Dataset/coco128\"\n",
        "for root, dirs, files in os.walk(dataset_root):\n",
        "    for file in files:\n",
        "        if file.endswith(\".json\"):\n",
        "            print(\"Found JSON:\", os.path.join(root, file))"
      ],
      "metadata": {
        "id": "Vi1uz01-yddZ"
      },
      "execution_count": 5,
      "outputs": []
    },
    {
      "cell_type": "code",
      "source": [
        "# =============================================================\n",
        "# 🔥 Robust COCO JSON → YOLO TXT conversion for Fire & Smoke\n",
        "# =============================================================\n",
        "\n",
        "import os\n",
        "import json\n",
        "from PIL import Image\n",
        "from collections import defaultdict\n",
        "from tqdm import tqdm\n",
        "\n",
        "# ----------------------------\n",
        "# 1️⃣ Dataset paths\n",
        "# ----------------------------\n",
        "dataset_root = \"Fire and Smoke BBox COCO Dataset/coco128\"  # base folder\n",
        "split = \"train\"  # \"train\" or \"val\"\n",
        "images_dir = os.path.join(dataset_root, f\"{split}2017\")\n",
        "labels_dir = os.path.join(images_dir, \"labels\")\n",
        "os.makedirs(labels_dir, exist_ok=True)  # create labels folder if missing\n",
        "\n",
        "# ----------------------------\n",
        "# 2️⃣ Locate JSON file\n",
        "# ----------------------------\n",
        "annotations_dir = os.path.join(dataset_root, \"annotations\")\n",
        "# Explicitly check for instances_train2017.json or instances_val2017.json\n",
        "json_file = \"Fire and Smoke BBox COCO Dataset/coco128/annotations/instances_train2017.json\"\n",
        "\n",
        "\n",
        "if not os.path.exists(json_file):\n",
        "    print(f\"❌ JSON file not found: {json_file}\")\n",
        "    print(\"Please download or place instances_train2017.json or instances_val2017.json in the annotations folder.\")\n",
        "    exit()  # stop script\n",
        "else:\n",
        "    print(f\"✅ Found JSON: {json_file}\")\n",
        "\n",
        "# ----------------------------\n",
        "# 3️⃣ Load COCO JSON\n",
        "# ----------------------------\n",
        "with open(json_file, 'r') as f:\n",
        "    coco = json.load(f)\n",
        "\n",
        "# ----------------------------\n",
        "# 4️⃣ Map COCO category id → YOLO class id\n",
        "# ----------------------------\n",
        "cat2id = {cat['id']: i for i, cat in enumerate(coco['categories'])}\n",
        "\n",
        "# Map image_id → file_name\n",
        "img_id2file = {img['id']: img['file_name'] for img in coco['images']}\n",
        "\n",
        "# Group annotations by image\n",
        "img_annotations = defaultdict(list)\n",
        "for ann in coco['annotations']:\n",
        "    img_annotations[ann['image_id']].append(ann)\n",
        "\n",
        "# ----------------------------\n",
        "# 5️⃣ Convert COCO bboxes → YOLO TXT\n",
        "# ----------------------------\n",
        "for img_id, anns in tqdm(img_annotations.items(), desc=f\"Converting {split} JSON → YOLO TXT\"):\n",
        "    img_name = img_id2file[img_id]\n",
        "    img_path = os.path.join(images_dir, img_name)\n",
        "\n",
        "    if not os.path.exists(img_path):\n",
        "        print(f\"⚠️ Image not found, skipping: {img_path}\")\n",
        "        continue\n",
        "\n",
        "    img = Image.open(img_path)\n",
        "    w, h = img.size\n",
        "\n",
        "    txt_path = os.path.join(labels_dir, os.path.splitext(img_name)[0] + \".txt\")\n",
        "    with open(txt_path, 'w') as f:\n",
        "        for ann in anns:\n",
        "            class_id = cat2id[ann['category_id']]\n",
        "            x_min, y_min, box_w, box_h = ann['bbox']\n",
        "            x_center = (x_min + box_w / 2) / w\n",
        "            y_center = (y_min + box_h / 2) / h\n",
        "            width_norm = box_w / w\n",
        "            height_norm = box_h / h\n",
        "            f.write(f\"{class_id} {x_center:.6f} {y_center:.6f} {width_norm:.6f} {height_norm:.6f}\\n\")\n",
        "\n",
        "print(f\"✅ {split} COCO JSON converted to YOLO TXT successfully!\")\n",
        "\n",
        "# ----------------------------\n",
        "# 6️⃣ List all images and labels\n",
        "# ----------------------------\n",
        "image_paths = [os.path.join(images_dir, img) for img in os.listdir(images_dir)\n",
        "               if img.lower().endswith((\".jpg\", \".jpeg\", \".png\"))]\n",
        "\n",
        "label_paths = [os.path.join(labels_dir, lbl) for lbl in os.listdir(labels_dir)\n",
        "               if lbl.lower().endswith(\".txt\")]\n",
        "\n",
        "print(f\"Found {len(image_paths)} images and {len(label_paths)} labels\")\n",
        "print(\"First 5 images:\", image_paths[:5])\n",
        "print(\"First 5 labels:\", label_paths[:5])\n"
      ],
      "metadata": {
        "colab": {
          "base_uri": "https://localhost:8080/",
          "height": 506
        },
        "id": "_ZFQeneewaFY",
        "outputId": "c4c2b1e6-b2ef-4587-ac77-9351ac3e22ca"
      },
      "execution_count": 1,
      "outputs": [
        {
          "output_type": "stream",
          "name": "stdout",
          "text": [
            "❌ JSON file not found: Fire and Smoke BBox COCO Dataset/coco128/annotations/instances_train2017.json\n",
            "Please download or place instances_train2017.json or instances_val2017.json in the annotations folder.\n"
          ]
        },
        {
          "output_type": "error",
          "ename": "FileNotFoundError",
          "evalue": "[Errno 2] No such file or directory: 'Fire and Smoke BBox COCO Dataset/coco128/annotations/instances_train2017.json'",
          "traceback": [
            "\u001b[1;31m---------------------------------------------------------------------------\u001b[0m",
            "\u001b[1;31mFileNotFoundError\u001b[0m                         Traceback (most recent call last)",
            "Cell \u001b[1;32mIn[1], line 38\u001b[0m\n\u001b[0;32m     33\u001b[0m     \u001b[38;5;28mprint\u001b[39m(\u001b[38;5;124mf\u001b[39m\u001b[38;5;124m\"\u001b[39m\u001b[38;5;124m✅ Found JSON: \u001b[39m\u001b[38;5;132;01m{\u001b[39;00mjson_file\u001b[38;5;132;01m}\u001b[39;00m\u001b[38;5;124m\"\u001b[39m)\n\u001b[0;32m     35\u001b[0m \u001b[38;5;66;03m# ----------------------------\u001b[39;00m\n\u001b[0;32m     36\u001b[0m \u001b[38;5;66;03m# 3️⃣ Load COCO JSON\u001b[39;00m\n\u001b[0;32m     37\u001b[0m \u001b[38;5;66;03m# ----------------------------\u001b[39;00m\n\u001b[1;32m---> 38\u001b[0m \u001b[38;5;28;01mwith\u001b[39;00m \u001b[38;5;28;43mopen\u001b[39;49m\u001b[43m(\u001b[49m\u001b[43mjson_file\u001b[49m\u001b[43m,\u001b[49m\u001b[43m \u001b[49m\u001b[38;5;124;43m'\u001b[39;49m\u001b[38;5;124;43mr\u001b[39;49m\u001b[38;5;124;43m'\u001b[39;49m\u001b[43m)\u001b[49m \u001b[38;5;28;01mas\u001b[39;00m f:\n\u001b[0;32m     39\u001b[0m     coco \u001b[38;5;241m=\u001b[39m json\u001b[38;5;241m.\u001b[39mload(f)\n\u001b[0;32m     41\u001b[0m \u001b[38;5;66;03m# ----------------------------\u001b[39;00m\n\u001b[0;32m     42\u001b[0m \u001b[38;5;66;03m# 4️⃣ Map COCO category id → YOLO class id\u001b[39;00m\n\u001b[0;32m     43\u001b[0m \u001b[38;5;66;03m# ----------------------------\u001b[39;00m\n",
            "File \u001b[1;32m~\\AppData\\Local\\Packages\\PythonSoftwareFoundation.Python.3.9_qbz5n2kfra8p0\\LocalCache\\local-packages\\Python39\\site-packages\\IPython\\core\\interactiveshell.py:310\u001b[0m, in \u001b[0;36m_modified_open\u001b[1;34m(file, *args, **kwargs)\u001b[0m\n\u001b[0;32m    303\u001b[0m \u001b[38;5;28;01mif\u001b[39;00m file \u001b[38;5;129;01min\u001b[39;00m {\u001b[38;5;241m0\u001b[39m, \u001b[38;5;241m1\u001b[39m, \u001b[38;5;241m2\u001b[39m}:\n\u001b[0;32m    304\u001b[0m     \u001b[38;5;28;01mraise\u001b[39;00m \u001b[38;5;167;01mValueError\u001b[39;00m(\n\u001b[0;32m    305\u001b[0m         \u001b[38;5;124mf\u001b[39m\u001b[38;5;124m\"\u001b[39m\u001b[38;5;124mIPython won\u001b[39m\u001b[38;5;124m'\u001b[39m\u001b[38;5;124mt let you open fd=\u001b[39m\u001b[38;5;132;01m{\u001b[39;00mfile\u001b[38;5;132;01m}\u001b[39;00m\u001b[38;5;124m by default \u001b[39m\u001b[38;5;124m\"\u001b[39m\n\u001b[0;32m    306\u001b[0m         \u001b[38;5;124m\"\u001b[39m\u001b[38;5;124mas it is likely to crash IPython. If you know what you are doing, \u001b[39m\u001b[38;5;124m\"\u001b[39m\n\u001b[0;32m    307\u001b[0m         \u001b[38;5;124m\"\u001b[39m\u001b[38;5;124myou can use builtins\u001b[39m\u001b[38;5;124m'\u001b[39m\u001b[38;5;124m open.\u001b[39m\u001b[38;5;124m\"\u001b[39m\n\u001b[0;32m    308\u001b[0m     )\n\u001b[1;32m--> 310\u001b[0m \u001b[38;5;28;01mreturn\u001b[39;00m io_open(file, \u001b[38;5;241m*\u001b[39margs, \u001b[38;5;241m*\u001b[39m\u001b[38;5;241m*\u001b[39mkwargs)\n",
            "\u001b[1;31mFileNotFoundError\u001b[0m: [Errno 2] No such file or directory: 'Fire and Smoke BBox COCO Dataset/coco128/annotations/instances_train2017.json'"
          ]
        }
      ]
    },
    {
      "cell_type": "markdown",
      "source": [
        "The funtion \"draw_yolo_box\", takes input an image path and its corresponding label path. Then, draws the bounding boxes and write the object's label in each box. Finally it displays the images"
      ],
      "metadata": {
        "id": "TKD1VpsSbpt3"
      }
    },
    {
      "cell_type": "code",
      "source": [
        "def draw_yolo_bbox(image_path, label_path):\n",
        "    # Load image\n",
        "    image = cv2.imread(image_path)\n",
        "    image = cv2.cvtColor(image, cv2.COLOR_BGR2RGB)\n",
        "    height, width, _ = image.shape\n",
        "\n",
        "    # Read label file\n",
        "    with open(label_path, 'r') as file:\n",
        "        bboxes = file.readlines()\n",
        "\n",
        "    # Draw each bbox\n",
        "    for bbox in bboxes:\n",
        "        cls, x_center, y_center, w, h = map(float, bbox.strip().split())\n",
        "        x1 = int((x_center - w / 2) * width)\n",
        "        y1 = int((y_center - h / 2) * height)\n",
        "        x2 = int((x_center + w / 2) * width)\n",
        "        y2 = int((y_center + h / 2) * height)\n",
        "        cv2.rectangle(image, (x1, y1), (x2, y2), (255, 0, 0), 2)\n",
        "    return image\n"
      ],
      "metadata": {
        "id": "u1G3t3yXcVOl"
      },
      "execution_count": null,
      "outputs": []
    },
    {
      "cell_type": "markdown",
      "source": [
        "The function \"print_random_images\" takes in input the list of images' paths, a number defining how much images we want to print. So it randomly selects the images to display and calls \"draw_yolo_bbox\"."
      ],
      "metadata": {
        "id": "5QcDHeIZcbuS"
      }
    },
    {
      "cell_type": "code",
      "source": [
        "def print_random_images(image_paths, n=6):\n",
        "    selected_images = random.sample(image_paths, n)\n",
        "\n",
        "    plt.figure(figsize=(15, 10))\n",
        "    for i, img_path in enumerate(selected_images):\n",
        "        # get file name (without extension)\n",
        "        name = os.path.splitext(os.path.basename(img_path))[0]\n",
        "        # construct label path correctly\n",
        "        label_path = os.path.join(os.path.dirname(os.path.dirname(img_path)), \"labels\", f\"{name}.txt\")\n",
        "\n",
        "        # draw boxes\n",
        "        image = draw_yolo_bbox(img_path, label_path)\n",
        "        plt.subplot(2, 3, i+1)\n",
        "        plt.imshow(image)\n",
        "        plt.axis(\"off\")\n",
        "        plt.title(name)\n",
        "    plt.show()\n"
      ],
      "metadata": {
        "id": "H9L8MkvV-EBh"
      },
      "execution_count": null,
      "outputs": []
    },
    {
      "cell_type": "markdown",
      "source": [
        "Now, finally calling the function to display 6 images randomly."
      ],
      "metadata": {
        "id": "z5KCOOvedKoT"
      }
    },
    {
      "cell_type": "code",
      "source": [
        "print_random_images(image_paths,n=6 )"
      ],
      "metadata": {
        "id": "GUb1DZnodJnc"
      },
      "execution_count": null,
      "outputs": []
    },
    {
      "cell_type": "markdown",
      "source": [
        "## Dataset Cleaning"
      ],
      "metadata": {
        "id": "Y2XL5eBUGs61"
      }
    },
    {
      "cell_type": "markdown",
      "source": [
        "Interestingly, we found out that this dataset is not clean. i.e. labels of some of the images are missing and there are extra labels. So, we need to find out the missing labels files and remove that from the labels folder. Also, we need to find out missing images, which we also need to remove from the images folder.\n"
      ],
      "metadata": {
        "id": "8VphL1Y3eDBT"
      }
    },
    {
      "cell_type": "code",
      "source": [
        "#we already have a list of images' paths and labels' path, stored in variables : image_paths and label_paths\n",
        "print(image_paths)\n",
        "print(label_paths)"
      ],
      "metadata": {
        "id": "hp-MBacMgDlx"
      },
      "execution_count": null,
      "outputs": []
    },
    {
      "cell_type": "markdown",
      "source": [
        "Now, we make a list of only the names of images' files and labels' files.\n",
        "\n",
        "e.g.  only  000000000531 without the extension"
      ],
      "metadata": {
        "id": "URBrBcojgRPf"
      }
    },
    {
      "cell_type": "code",
      "source": [
        "# Get the list of filenames without extensions\n",
        "image_files = {file.split(\"/\")[-1].split(\".\")[0] for file in image_paths}\n",
        "label_files = {file.split(\"/\")[-1].split(\".\")[0] for file in label_paths}\n",
        "\n",
        "print(image_files)"
      ],
      "metadata": {
        "id": "a5E_Pw6dgOMO"
      },
      "execution_count": null,
      "outputs": []
    },
    {
      "cell_type": "code",
      "source": [
        "# Find extra files in each folder\n",
        "extra_images = image_files - label_files\n",
        "extra_labels = label_files - image_files\n",
        "\n",
        "# Output the results\n",
        "print(f\"Extra images (without corresponding labels): {extra_images}\")\n",
        "print(f\"Extra labels (without corresponding images): {extra_labels}\")"
      ],
      "metadata": {
        "id": "LJKT0PFHhk5Y"
      },
      "execution_count": null,
      "outputs": []
    },
    {
      "cell_type": "code",
      "source": [
        "import os\n",
        "\n",
        "# Corrected removal loop\n",
        "for file in extra_images:\n",
        "    # Get only the filename without any folder\n",
        "    filename = os.path.basename(file)\n",
        "    image_path = os.path.join(dataset_path, \"images\", filename)\n",
        "    if os.path.exists(image_path):\n",
        "        os.remove(image_path)\n",
        "        print(f\"Removed: {image_path}\")\n",
        "    else:\n",
        "        print(f\"Not found: {image_path}\")\n",
        "\n",
        "for file in extra_labels:\n",
        "    filename = os.path.basename(file)\n",
        "    label_path = os.path.join(dataset_path, \"labels\", filename)\n",
        "    if os.path.exists(label_path):\n",
        "        os.remove(label_path)\n",
        "        print(f\"Removed: {label_path}\")\n",
        "    else:\n",
        "        print(f\"Not found: {label_path}\")\n",
        "\n"
      ],
      "metadata": {
        "id": "bd53OlLafsVP"
      },
      "execution_count": null,
      "outputs": []
    },
    {
      "cell_type": "markdown",
      "source": [
        "Now removing them from the dataset:"
      ],
      "metadata": {
        "id": "HFC1RmdVhter"
      }
    },
    {
      "cell_type": "code",
      "source": [
        "os.path.join(dataset_path,\"images\", file + '.jpg')"
      ],
      "metadata": {
        "id": "akqYMfZJjBop"
      },
      "execution_count": null,
      "outputs": []
    },
    {
      "cell_type": "markdown",
      "source": [
        "Check again if it worked:"
      ],
      "metadata": {
        "id": "ZfqxKksXihaM"
      }
    },
    {
      "cell_type": "code",
      "source": [
        "# Get the list of all images paths in the dataset\n",
        "image_paths = [os.path.join(dataset_path, \"images\", image_name) for image_name in os.listdir(os.path.join(dataset_path, \"images\"))]\n",
        "\n",
        "# Get the list of all labels paths in the dataset\n",
        "label_paths = [os.path.join(dataset_path, \"labels\", label_name) for label_name in os.listdir(os.path.join(dataset_path, \"labels\"))]\n",
        "\n",
        "# Get the list of filenames without extensions\n",
        "image_files = {file.split(\"/\")[-1].split(\".\")[0] for file in image_paths}\n",
        "label_files = {file.split(\"/\")[-1].split(\".\")[0] for file in label_paths}\n",
        "# Find extra files in each folder\n",
        "extra_images = image_files - label_files\n",
        "extra_labels = label_files - image_files\n",
        "\n",
        "# Output the results\n",
        "print(f\"Extra images (without corresponding labels): {extra_images}\")\n",
        "print(f\"Extra labels (without corresponding images): {extra_labels}\")\n",
        "\n"
      ],
      "metadata": {
        "id": "cluJu0Hqioo7"
      },
      "execution_count": null,
      "outputs": []
    },
    {
      "cell_type": "markdown",
      "source": [
        "There are none! great!\n"
      ],
      "metadata": {
        "id": "B7LJCLrTI_69"
      }
    }
  ]
}